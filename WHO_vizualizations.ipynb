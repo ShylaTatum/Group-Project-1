{
 "cells": [
  {
   "cell_type": "code",
   "execution_count": 2,
   "metadata": {},
   "outputs": [],
   "source": [
    "import pandas as pd\n",
    "from pandas import Series, DataFrame\n",
    "import matplotlib.pyplot as plt\n",
    "import numpy as np\n",
    "import plotly.graph_objects as gp"
   ]
  },
  {
   "cell_type": "code",
   "execution_count": 3,
   "metadata": {},
   "outputs": [
    {
     "data": {
      "text/html": [
       "<div>\n",
       "<style scoped>\n",
       "    .dataframe tbody tr th:only-of-type {\n",
       "        vertical-align: middle;\n",
       "    }\n",
       "\n",
       "    .dataframe tbody tr th {\n",
       "        vertical-align: top;\n",
       "    }\n",
       "\n",
       "    .dataframe thead th {\n",
       "        text-align: right;\n",
       "    }\n",
       "</style>\n",
       "<table border=\"1\" class=\"dataframe\">\n",
       "  <thead>\n",
       "    <tr style=\"text-align: right;\">\n",
       "      <th></th>\n",
       "      <th>Year</th>\n",
       "      <th>Country Code</th>\n",
       "      <th>Country Name</th>\n",
       "      <th>Region</th>\n",
       "      <th>Sex</th>\n",
       "      <th>ICD Code</th>\n",
       "      <th>ICD Category</th>\n",
       "      <th>ICD10 Version</th>\n",
       "      <th>Deaths: All Ages</th>\n",
       "      <th>Deaths: 0-1 Years</th>\n",
       "      <th>Deaths: 1-24 Years</th>\n",
       "      <th>Deaths: 25-44 Years</th>\n",
       "      <th>Deaths: 45-69 Years</th>\n",
       "      <th>Deaths: 70-95+ Years</th>\n",
       "      <th>Deaths: Age Not Specified</th>\n",
       "      <th>Age Format</th>\n",
       "      <th>Deaths: Smoketest All Ages</th>\n",
       "    </tr>\n",
       "  </thead>\n",
       "  <tbody>\n",
       "    <tr>\n",
       "      <th>0</th>\n",
       "      <td>2017</td>\n",
       "      <td>4160</td>\n",
       "      <td>Iceland</td>\n",
       "      <td>Northern Europe</td>\n",
       "      <td>1 - Male</td>\n",
       "      <td>A02</td>\n",
       "      <td>Infectious and parasitic diseases</td>\n",
       "      <td>103</td>\n",
       "      <td>1</td>\n",
       "      <td>0.0</td>\n",
       "      <td>0.0</td>\n",
       "      <td>0.0</td>\n",
       "      <td>0.0</td>\n",
       "      <td>1.0</td>\n",
       "      <td>0.0</td>\n",
       "      <td>0</td>\n",
       "      <td>1.0</td>\n",
       "    </tr>\n",
       "    <tr>\n",
       "      <th>1</th>\n",
       "      <td>2017</td>\n",
       "      <td>4160</td>\n",
       "      <td>Iceland</td>\n",
       "      <td>Northern Europe</td>\n",
       "      <td>1 - Male</td>\n",
       "      <td>A04</td>\n",
       "      <td>Infectious and parasitic diseases</td>\n",
       "      <td>103</td>\n",
       "      <td>1</td>\n",
       "      <td>0.0</td>\n",
       "      <td>0.0</td>\n",
       "      <td>0.0</td>\n",
       "      <td>0.0</td>\n",
       "      <td>1.0</td>\n",
       "      <td>0.0</td>\n",
       "      <td>0</td>\n",
       "      <td>1.0</td>\n",
       "    </tr>\n",
       "    <tr>\n",
       "      <th>2</th>\n",
       "      <td>2017</td>\n",
       "      <td>4160</td>\n",
       "      <td>Iceland</td>\n",
       "      <td>Northern Europe</td>\n",
       "      <td>1 - Male</td>\n",
       "      <td>A08</td>\n",
       "      <td>Infectious and parasitic diseases</td>\n",
       "      <td>103</td>\n",
       "      <td>1</td>\n",
       "      <td>0.0</td>\n",
       "      <td>0.0</td>\n",
       "      <td>0.0</td>\n",
       "      <td>0.0</td>\n",
       "      <td>1.0</td>\n",
       "      <td>0.0</td>\n",
       "      <td>0</td>\n",
       "      <td>1.0</td>\n",
       "    </tr>\n",
       "    <tr>\n",
       "      <th>3</th>\n",
       "      <td>2017</td>\n",
       "      <td>4160</td>\n",
       "      <td>Iceland</td>\n",
       "      <td>Northern Europe</td>\n",
       "      <td>1 - Male</td>\n",
       "      <td>A32</td>\n",
       "      <td>Infectious and parasitic diseases</td>\n",
       "      <td>103</td>\n",
       "      <td>1</td>\n",
       "      <td>0.0</td>\n",
       "      <td>0.0</td>\n",
       "      <td>0.0</td>\n",
       "      <td>0.0</td>\n",
       "      <td>0.0</td>\n",
       "      <td>0.0</td>\n",
       "      <td>0</td>\n",
       "      <td>1.0</td>\n",
       "    </tr>\n",
       "    <tr>\n",
       "      <th>4</th>\n",
       "      <td>2017</td>\n",
       "      <td>4160</td>\n",
       "      <td>Iceland</td>\n",
       "      <td>Northern Europe</td>\n",
       "      <td>1 - Male</td>\n",
       "      <td>A41</td>\n",
       "      <td>Infectious and parasitic diseases</td>\n",
       "      <td>103</td>\n",
       "      <td>4</td>\n",
       "      <td>0.0</td>\n",
       "      <td>0.0</td>\n",
       "      <td>0.0</td>\n",
       "      <td>2.0</td>\n",
       "      <td>2.0</td>\n",
       "      <td>0.0</td>\n",
       "      <td>0</td>\n",
       "      <td>4.0</td>\n",
       "    </tr>\n",
       "  </tbody>\n",
       "</table>\n",
       "</div>"
      ],
      "text/plain": [
       "   Year  Country Code Country Name           Region       Sex ICD Code  \\\n",
       "0  2017          4160      Iceland  Northern Europe  1 - Male      A02   \n",
       "1  2017          4160      Iceland  Northern Europe  1 - Male      A04   \n",
       "2  2017          4160      Iceland  Northern Europe  1 - Male      A08   \n",
       "3  2017          4160      Iceland  Northern Europe  1 - Male      A32   \n",
       "4  2017          4160      Iceland  Northern Europe  1 - Male      A41   \n",
       "\n",
       "                        ICD Category  ICD10 Version  Deaths: All Ages  \\\n",
       "0  Infectious and parasitic diseases            103                 1   \n",
       "1  Infectious and parasitic diseases            103                 1   \n",
       "2  Infectious and parasitic diseases            103                 1   \n",
       "3  Infectious and parasitic diseases            103                 1   \n",
       "4  Infectious and parasitic diseases            103                 4   \n",
       "\n",
       "   Deaths: 0-1 Years  Deaths: 1-24 Years  Deaths: 25-44 Years  \\\n",
       "0                0.0                 0.0                  0.0   \n",
       "1                0.0                 0.0                  0.0   \n",
       "2                0.0                 0.0                  0.0   \n",
       "3                0.0                 0.0                  0.0   \n",
       "4                0.0                 0.0                  0.0   \n",
       "\n",
       "   Deaths: 45-69 Years  Deaths: 70-95+ Years  Deaths: Age Not Specified  \\\n",
       "0                  0.0                   1.0                        0.0   \n",
       "1                  0.0                   1.0                        0.0   \n",
       "2                  0.0                   1.0                        0.0   \n",
       "3                  0.0                   0.0                        0.0   \n",
       "4                  2.0                   2.0                        0.0   \n",
       "\n",
       "   Age Format  Deaths: Smoketest All Ages  \n",
       "0           0                         1.0  \n",
       "1           0                         1.0  \n",
       "2           0                         1.0  \n",
       "3           0                         1.0  \n",
       "4           0                         4.0  "
      ]
     },
     "execution_count": 3,
     "metadata": {},
     "output_type": "execute_result"
    }
   ],
   "source": [
    "#Import the data\n",
    "WHO_df = pd.read_csv('C:\\\\Users\\\\shyar\\\\OneDrive\\\\Bootcamp\\\\P1Shyla_Branch\\\\Data\\\\WHO.csv')\n",
    "WHO_df.head()"
   ]
  },
  {
   "cell_type": "code",
   "execution_count": 24,
   "metadata": {},
   "outputs": [
    {
     "data": {
      "image/png": "[encoded data removed]",
      "text/plain": [
       "<Figure size 640x480 with 1 Axes>"
      ]
     },
     "metadata": {},
     "output_type": "display_data"
    }
   ],
   "source": [
    "\n",
    "#practice with too many variables\n",
    "male = WHO_df.loc[(WHO_df[\"Sex\"]==\"1 - Male\") & (WHO_df[\"ICD Category\"]), \"Year\"]\n",
    "female = WHO_df.loc[(WHO_df[\"Sex\"]==\"2 - Female\") & (WHO_df[\"ICD Category\"]), \"Year\"]\n",
    "width = 0.3\n",
    "plt.bar(np.arange(len(male)), male, width=width)\n",
    "plt.bar(np.arange(len(female))+ width, female, width=width )\n",
    "plt.show()\n"
   ]
  },
  {
   "cell_type": "code",
   "execution_count": 25,
   "metadata": {},
   "outputs": [
    {
     "data": {
      "image/png": "[encoded data removed]",
      "text/plain": [
       "<Figure size 640x480 with 1 Axes>"
      ]
     },
     "metadata": {},
     "output_type": "display_data"
    }
   ],
   "source": [
    "#practice plotted to many variables\n",
    "male = WHO_df.loc[(WHO_df[\"Sex\"]==\"1 - Male\"), \"Year\"]\n",
    "female = WHO_df.loc[(WHO_df[\"Sex\"]==\"2 - Female\"), \"Year\"]\n",
    "width = 0.3\n",
    "plt.bar(np.arange(len(male)), male, width=width)\n",
    "plt.bar(np.arange(len(female))+ width, female, width=width )\n",
    "plt.show()"
   ]
  },
  {
   "cell_type": "code",
   "execution_count": 41,
   "metadata": {},
   "outputs": [
    {
     "data": {
      "text/plain": [
       "Country Name\n",
       "Australia                   10\n",
       "Brazil                      10\n",
       "Canada                      10\n",
       "Chile                       10\n",
       "Iceland                     10\n",
       "Israel                      10\n",
       "Japan                       10\n",
       "Poland                      10\n",
       "Singapore                   10\n",
       "Sweden                      10\n",
       "United States of America    10\n",
       "Tunisia                      6\n",
       "Name: count, dtype: int64"
      ]
     },
     "metadata": {},
     "output_type": "display_data"
    },
    {
     "data": {
      "text/plain": [
       "Sex\n",
       "1 - Male      58\n",
       "2 - Female    58\n",
       "Name: count, dtype: int64"
      ]
     },
     "metadata": {},
     "output_type": "display_data"
    }
   ],
   "source": [
    "#create a dataset that does not have the Unspecified Gender\n",
    "\n",
    "Boolean_Who = WHO_df[(WHO_df[\"Sex\"]==\"1 - Male\") | (WHO_df[\"Sex\"]==\"2 - Female\")]\n",
    "WHO_group = Boolean_Who.groupby([\"Year\", \"Sex\", \"Country Name\"]).sum()\n",
    "WHO_group = WHO_group.reset_index()\n",
    "\n",
    "#visual verification of data\n",
    "display(WHO_group.value_counts(\"Country Name\"))\n",
    "display(WHO_group.value_counts(\"Sex\"))\n"
   ]
  },
  {
   "cell_type": "code",
   "execution_count": 30,
   "metadata": {},
   "outputs": [
    {
     "data": {
      "image/png": "[encoded data removed]",
      "text/plain": [
       "<Figure size 640x480 with 1 Axes>"
      ]
     },
     "metadata": {},
     "output_type": "display_data"
    }
   ],
   "source": [
    "#Practice bargraph Male data only\n",
    "year = WHO_df.loc[(WHO_df[\"Sex\"]==\"1 - Male\"), \"Year\"]\n",
    "male_deaths = WHO_df.loc[(WHO_df[\"Sex\"]==\"1 - Male\"), \"Deaths: All Ages\"]\n",
    "plt.bar(year, male_deaths)\n",
    "\n",
    "plt.show()"
   ]
  },
  {
   "cell_type": "code",
   "execution_count": 11,
   "metadata": {},
   "outputs": [
    {
     "data": {
      "image/png": "[encoded data removed]",
      "text/plain": [
       "<Figure size 640x480 with 1 Axes>"
      ]
     },
     "metadata": {},
     "output_type": "display_data"
    }
   ],
   "source": [
    "#create a visual with stacked bar graph\n",
    "year = WHO_df.loc[(WHO_df[\"Sex\"]==\"1 - Male\"), \"Year\"]\n",
    "year2 = WHO_df.loc[(WHO_df[\"Sex\"]==\"2 - Female\"), \"Year\"]\n",
    "\n",
    "male_deaths = WHO_df.loc[(WHO_df[\"Sex\"]==\"1 - Male\"), \"Deaths: All Ages\"]\n",
    "female_deaths = WHO_df.loc[(WHO_df[\"Sex\"]==\"2 - Female\"), \"Deaths: All Ages\"]\n",
    "\n",
    "plt.bar(year, male_deaths, color='cornflowerblue', label = \"Male Deaths\")\n",
    "plt.bar(year2, female_deaths, color='orchid', label =\"Female Deaths\")\n",
    "plt.xlabel(\"Year\")\n",
    "plt.ylabel(\"Deaths\")\n",
    "plt.legend()\n",
    "plt.title(\"Deaths by Gender - All Nations\")\n",
    "plt.ticklabel_format(style=\"plain\")\n",
    "\n",
    "plt.show()"
   ]
  },
  {
   "cell_type": "code",
   "execution_count": 45,
   "metadata": {},
   "outputs": [
    {
     "data": {
      "image/png": "[encoded data removed]",
      "text/plain": [
       "<Figure size 640x480 with 1 Axes>"
      ]
     },
     "metadata": {},
     "output_type": "display_data"
    }
   ],
   "source": [
    "#Create visual to compare Male and Female deaths by year side by side\n",
    "year = WHO_group.loc[(WHO_group[\"Sex\"]==\"1 - Male\"), \"Year\"]\n",
    "year2 = WHO_group.loc[(WHO_group[\"Sex\"]==\"2 - Female\"), \"Year\"]\n",
    "\n",
    "male_deaths = WHO_group.loc[(WHO_group[\"Sex\"]==\"1 - Male\"), \"Deaths: All Ages\"]\n",
    "female_deaths = WHO_group.loc[(WHO_group[\"Sex\"]==\"2 - Female\"), \"Deaths: All Ages\"]\n",
    "\n",
    "plt.bar(year -0.2, male_deaths, width=0.4,color='cornflowerblue', label = \"Male Deaths\")\n",
    "plt.bar(year2 +0.2, female_deaths, width=0.4, color='orchid', label =\"Female Deaths\")\n",
    "plt.xlabel(\"Year\")\n",
    "plt.ylabel(\"Deaths\")\n",
    "plt.legend()\n",
    "plt.title(\"Deaths by Gender - Nations Combined\")\n",
    "plt.ticklabel_format(style=\"plain\")\n",
    "\n",
    "plt.show()"
   ]
  },
  {
   "cell_type": "code",
   "execution_count": 40,
   "metadata": {},
   "outputs": [
    {
     "data": {
      "text/html": [
       "<div>\n",
       "<style scoped>\n",
       "    .dataframe tbody tr th:only-of-type {\n",
       "        vertical-align: middle;\n",
       "    }\n",
       "\n",
       "    .dataframe tbody tr th {\n",
       "        vertical-align: top;\n",
       "    }\n",
       "\n",
       "    .dataframe thead th {\n",
       "        text-align: right;\n",
       "    }\n",
       "</style>\n",
       "<table border=\"1\" class=\"dataframe\">\n",
       "  <thead>\n",
       "    <tr style=\"text-align: right;\">\n",
       "      <th></th>\n",
       "      <th>Country Code</th>\n",
       "      <th>Country Name</th>\n",
       "      <th>Region</th>\n",
       "      <th>Sex</th>\n",
       "      <th>ICD Code</th>\n",
       "      <th>ICD Category</th>\n",
       "      <th>ICD10 Version</th>\n",
       "      <th>Deaths: All Ages</th>\n",
       "      <th>Deaths: 0-1 Years</th>\n",
       "      <th>Deaths: 1-24 Years</th>\n",
       "      <th>Deaths: 25-44 Years</th>\n",
       "      <th>Deaths: 45-69 Years</th>\n",
       "      <th>Deaths: 70-95+ Years</th>\n",
       "      <th>Deaths: Age Not Specified</th>\n",
       "      <th>Age Format</th>\n",
       "      <th>Deaths: Smoketest All Ages</th>\n",
       "    </tr>\n",
       "    <tr>\n",
       "      <th>Year</th>\n",
       "      <th></th>\n",
       "      <th></th>\n",
       "      <th></th>\n",
       "      <th></th>\n",
       "      <th></th>\n",
       "      <th></th>\n",
       "      <th></th>\n",
       "      <th></th>\n",
       "      <th></th>\n",
       "      <th></th>\n",
       "      <th></th>\n",
       "      <th></th>\n",
       "      <th></th>\n",
       "      <th></th>\n",
       "      <th></th>\n",
       "      <th></th>\n",
       "    </tr>\n",
       "  </thead>\n",
       "  <tbody>\n",
       "    <tr>\n",
       "      <th>2017</th>\n",
       "      <td>124515790</td>\n",
       "      <td>IcelandIcelandIcelandIcelandIcelandIcelandIcel...</td>\n",
       "      <td>Northern EuropeNorthern EuropeNorthern EuropeN...</td>\n",
       "      <td>1 - Male1 - Male1 - Male1 - Male1 - Male1 - Ma...</td>\n",
       "      <td>A02A04A08A32A41AAAB34B44C02C04C06C13C15C16C17C...</td>\n",
       "      <td>Infectious and parasitic diseasesInfectious an...</td>\n",
       "      <td>4422543</td>\n",
       "      <td>13194486</td>\n",
       "      <td>136748.0</td>\n",
       "      <td>369804.0</td>\n",
       "      <td>684578.0</td>\n",
       "      <td>3909246.0</td>\n",
       "      <td>5263614.0</td>\n",
       "      <td>14636.0</td>\n",
       "      <td>14460</td>\n",
       "      <td>13194486.0</td>\n",
       "    </tr>\n",
       "    <tr>\n",
       "      <th>2018</th>\n",
       "      <td>122652410</td>\n",
       "      <td>BrazilBrazilBrazilBrazilBrazilBrazilBrazilBraz...</td>\n",
       "      <td>South AmericaSouth AmericaSouth AmericaSouth A...</td>\n",
       "      <td>1 - Male1 - Male1 - Male1 - Male1 - Male1 - Ma...</td>\n",
       "      <td>A010A020A021A022A029A040A041A043A044A047A048A0...</td>\n",
       "      <td>Infectious and parasitic diseasesInfectious an...</td>\n",
       "      <td>4278144</td>\n",
       "      <td>13284456</td>\n",
       "      <td>130886.0</td>\n",
       "      <td>349578.0</td>\n",
       "      <td>679166.0</td>\n",
       "      <td>3964160.0</td>\n",
       "      <td>5297608.0</td>\n",
       "      <td>6076.0</td>\n",
       "      <td>10410</td>\n",
       "      <td>13284456.0</td>\n",
       "    </tr>\n",
       "    <tr>\n",
       "      <th>2019</th>\n",
       "      <td>123721810</td>\n",
       "      <td>BrazilBrazilBrazilBrazilBrazilBrazilBrazilBraz...</td>\n",
       "      <td>South AmericaSouth AmericaSouth AmericaSouth A...</td>\n",
       "      <td>1 - Male1 - Male1 - Male1 - Male1 - Male1 - Ma...</td>\n",
       "      <td>A020A021A022A041A042A044A046A047A048A049A052A0...</td>\n",
       "      <td>Infectious and parasitic diseasesInfectious an...</td>\n",
       "      <td>4318912</td>\n",
       "      <td>13433122</td>\n",
       "      <td>127918.0</td>\n",
       "      <td>335916.0</td>\n",
       "      <td>680896.0</td>\n",
       "      <td>4016446.0</td>\n",
       "      <td>5348736.0</td>\n",
       "      <td>5492.0</td>\n",
       "      <td>11560</td>\n",
       "      <td>13433122.0</td>\n",
       "    </tr>\n",
       "    <tr>\n",
       "      <th>2020</th>\n",
       "      <td>126117440</td>\n",
       "      <td>TunisiaTunisiaTunisiaTunisiaTunisiaTunisiaTuni...</td>\n",
       "      <td>AfricaAfricaAfricaAfricaAfricaAfricaAfricaAfri...</td>\n",
       "      <td>1 - Male1 - Male1 - Male1 - Male1 - Male1 - Ma...</td>\n",
       "      <td>A010A049A090A099A153A156A161A162A163A165A169A1...</td>\n",
       "      <td>Infectious and parasitic diseasesInfectious an...</td>\n",
       "      <td>4496440</td>\n",
       "      <td>15197766</td>\n",
       "      <td>120072.0</td>\n",
       "      <td>366370.0</td>\n",
       "      <td>806984.0</td>\n",
       "      <td>4677512.0</td>\n",
       "      <td>5904526.0</td>\n",
       "      <td>10086.0</td>\n",
       "      <td>13256</td>\n",
       "      <td>15197766.0</td>\n",
       "    </tr>\n",
       "    <tr>\n",
       "      <th>2021</th>\n",
       "      <td>130336020</td>\n",
       "      <td>United States of AmericaUnited States of Ameri...</td>\n",
       "      <td>North AmericaNorth AmericaNorth AmericaNorth A...</td>\n",
       "      <td>1 - Male1 - Male1 - Male1 - Male1 - Male1 - Ma...</td>\n",
       "      <td>A010A020A021A022A029A039A044A045A046A047A048A0...</td>\n",
       "      <td>Infectious and parasitic diseasesInfectious an...</td>\n",
       "      <td>4648488</td>\n",
       "      <td>16223664</td>\n",
       "      <td>121212.0</td>\n",
       "      <td>385654.0</td>\n",
       "      <td>974088.0</td>\n",
       "      <td>5202352.0</td>\n",
       "      <td>5978600.0</td>\n",
       "      <td>14154.0</td>\n",
       "      <td>16303</td>\n",
       "      <td>16223664.0</td>\n",
       "    </tr>\n",
       "  </tbody>\n",
       "</table>\n",
       "</div>"
      ],
      "text/plain": [
       "      Country Code                                       Country Name  \\\n",
       "Year                                                                    \n",
       "2017     124515790  IcelandIcelandIcelandIcelandIcelandIcelandIcel...   \n",
       "2018     122652410  BrazilBrazilBrazilBrazilBrazilBrazilBrazilBraz...   \n",
       "2019     123721810  BrazilBrazilBrazilBrazilBrazilBrazilBrazilBraz...   \n",
       "2020     126117440  TunisiaTunisiaTunisiaTunisiaTunisiaTunisiaTuni...   \n",
       "2021     130336020  United States of AmericaUnited States of Ameri...   \n",
       "\n",
       "                                                 Region  \\\n",
       "Year                                                      \n",
       "2017  Northern EuropeNorthern EuropeNorthern EuropeN...   \n",
       "2018  South AmericaSouth AmericaSouth AmericaSouth A...   \n",
       "2019  South AmericaSouth AmericaSouth AmericaSouth A...   \n",
       "2020  AfricaAfricaAfricaAfricaAfricaAfricaAfricaAfri...   \n",
       "2021  North AmericaNorth AmericaNorth AmericaNorth A...   \n",
       "\n",
       "                                                    Sex  \\\n",
       "Year                                                      \n",
       "2017  1 - Male1 - Male1 - Male1 - Male1 - Male1 - Ma...   \n",
       "2018  1 - Male1 - Male1 - Male1 - Male1 - Male1 - Ma...   \n",
       "2019  1 - Male1 - Male1 - Male1 - Male1 - Male1 - Ma...   \n",
       "2020  1 - Male1 - Male1 - Male1 - Male1 - Male1 - Ma...   \n",
       "2021  1 - Male1 - Male1 - Male1 - Male1 - Male1 - Ma...   \n",
       "\n",
       "                                               ICD Code  \\\n",
       "Year                                                      \n",
       "2017  A02A04A08A32A41AAAB34B44C02C04C06C13C15C16C17C...   \n",
       "2018  A010A020A021A022A029A040A041A043A044A047A048A0...   \n",
       "2019  A020A021A022A041A042A044A046A047A048A049A052A0...   \n",
       "2020  A010A049A090A099A153A156A161A162A163A165A169A1...   \n",
       "2021  A010A020A021A022A029A039A044A045A046A047A048A0...   \n",
       "\n",
       "                                           ICD Category  ICD10 Version  \\\n",
       "Year                                                                     \n",
       "2017  Infectious and parasitic diseasesInfectious an...        4422543   \n",
       "2018  Infectious and parasitic diseasesInfectious an...        4278144   \n",
       "2019  Infectious and parasitic diseasesInfectious an...        4318912   \n",
       "2020  Infectious and parasitic diseasesInfectious an...        4496440   \n",
       "2021  Infectious and parasitic diseasesInfectious an...        4648488   \n",
       "\n",
       "      Deaths: All Ages  Deaths: 0-1 Years  Deaths: 1-24 Years  \\\n",
       "Year                                                            \n",
       "2017          13194486           136748.0            369804.0   \n",
       "2018          13284456           130886.0            349578.0   \n",
       "2019          13433122           127918.0            335916.0   \n",
       "2020          15197766           120072.0            366370.0   \n",
       "2021          16223664           121212.0            385654.0   \n",
       "\n",
       "      Deaths: 25-44 Years  Deaths: 45-69 Years  Deaths: 70-95+ Years  \\\n",
       "Year                                                                   \n",
       "2017             684578.0            3909246.0             5263614.0   \n",
       "2018             679166.0            3964160.0             5297608.0   \n",
       "2019             680896.0            4016446.0             5348736.0   \n",
       "2020             806984.0            4677512.0             5904526.0   \n",
       "2021             974088.0            5202352.0             5978600.0   \n",
       "\n",
       "      Deaths: Age Not Specified  Age Format  Deaths: Smoketest All Ages  \n",
       "Year                                                                     \n",
       "2017                    14636.0       14460                  13194486.0  \n",
       "2018                     6076.0       10410                  13284456.0  \n",
       "2019                     5492.0       11560                  13433122.0  \n",
       "2020                    10086.0       13256                  15197766.0  \n",
       "2021                    14154.0       16303                  16223664.0  "
      ]
     },
     "execution_count": 40,
     "metadata": {},
     "output_type": "execute_result"
    }
   ],
   "source": [
    "WHO_group"
   ]
  },
  {
   "cell_type": "code",
   "execution_count": 37,
   "metadata": {},
   "outputs": [
    {
     "data": {
      "text/plain": [
       "<Axes: xlabel='Year'>"
      ]
     },
     "execution_count": 37,
     "metadata": {},
     "output_type": "execute_result"
    },
    {
     "data": {
      "image/png": "[encoded data removed]",
      "text/plain": [
       "<Figure size 640x480 with 1 Axes>"
      ]
     },
     "metadata": {},
     "output_type": "display_data"
    }
   ],
   "source": [
    "WHO_group.plot(kind='bar')"
   ]
  },
  {
   "cell_type": "code",
   "execution_count": 38,
   "metadata": {},
   "outputs": [],
   "source": [
    "X = [2017, 2018, 2019, 2020, 2021]\n",
    "\n",
    "X_axis = np.arange(len(X))\n",
    "\n",
    "male_deaths = WHO_group.loc[(WHO_group[\"Sex\"]==\"1 - Male\"), \"Deaths: All Ages\"]\n",
    "#female_deaths = WHO_group.loc[(WHO_group[\"Sex\"]==\"2 - Female\"), \"Deaths: All Ages\"].sum()\n",
    "male_deaths\n",
    "#plt.bar(year -0.2, male_deaths)\n",
    "#plt.bar(year2 +0.2, female_deaths, width=0.4, color=\"orchid\",label =\"Female Deaths\")\n",
    "\n",
    "#plt.xlabel(\"Year\")\n",
    "#plt.ylabel(\"Death in Millions\")\n",
    "#plt.title(\"Deaths by Gender - Nations Combined\")\n",
    "#plt.legend()\n",
    "#plt.ticklabel_format(style=\"plain\")\n",
    "\n",
    "\n",
    "plt.show()"
   ]
  },
  {
   "cell_type": "code",
   "execution_count": 39,
   "metadata": {},
   "outputs": [
    {
     "data": {
      "text/plain": [
       "Series([], Name: Deaths: All Ages, dtype: int64)"
      ]
     },
     "execution_count": 39,
     "metadata": {},
     "output_type": "execute_result"
    }
   ],
   "source": [
    "male_deaths\n"
   ]
  },
  {
   "cell_type": "code",
   "execution_count": 5,
   "metadata": {},
   "outputs": [
    {
     "data": {
      "text/plain": [
       "Country Name\n",
       "Australia                   10\n",
       "Brazil                      10\n",
       "Canada                      10\n",
       "Chile                       10\n",
       "Iceland                     10\n",
       "Israel                      10\n",
       "Japan                       10\n",
       "Poland                      10\n",
       "Singapore                   10\n",
       "Sweden                      10\n",
       "United States of America    10\n",
       "Tunisia                      6\n",
       "Name: count, dtype: int64"
      ]
     },
     "metadata": {},
     "output_type": "display_data"
    },
    {
     "data": {
      "text/plain": [
       "Sex\n",
       "1 - Male      58\n",
       "2 - Female    58\n",
       "Name: count, dtype: int64"
      ]
     },
     "metadata": {},
     "output_type": "display_data"
    }
   ],
   "source": [
    "#create a dataset that does not have the Unspecified Gender\n",
    "\n",
    "Boolean_Who = WHO_df[(WHO_df[\"Sex\"]==\"1 - Male\") | (WHO_df[\"Sex\"]==\"2 - Female\")]\n",
    "WHO_group = Boolean_Who.groupby([\"Year\", \"Sex\", \"Country Name\"]).sum()\n",
    "WHO_group = WHO_group.reset_index()\n",
    "\n",
    "display(WHO_group.value_counts(\"Country Name\"))\n",
    "display(WHO_group.value_counts(\"Sex\"))\n",
    "\n"
   ]
  },
  {
   "cell_type": "code",
   "execution_count": 23,
   "metadata": {},
   "outputs": [
    {
     "data": {
      "text/html": [
       "<div>\n",
       "<style scoped>\n",
       "    .dataframe tbody tr th:only-of-type {\n",
       "        vertical-align: middle;\n",
       "    }\n",
       "\n",
       "    .dataframe tbody tr th {\n",
       "        vertical-align: top;\n",
       "    }\n",
       "\n",
       "    .dataframe thead th {\n",
       "        text-align: right;\n",
       "    }\n",
       "</style>\n",
       "<table border=\"1\" class=\"dataframe\">\n",
       "  <thead>\n",
       "    <tr style=\"text-align: right;\">\n",
       "      <th></th>\n",
       "      <th>Year</th>\n",
       "      <th>Sex</th>\n",
       "      <th>Country Name</th>\n",
       "      <th>Deaths: All Ages</th>\n",
       "    </tr>\n",
       "  </thead>\n",
       "  <tbody>\n",
       "    <tr>\n",
       "      <th>0</th>\n",
       "      <td>2017</td>\n",
       "      <td>1 - Male</td>\n",
       "      <td>Australia</td>\n",
       "      <td>165948</td>\n",
       "    </tr>\n",
       "    <tr>\n",
       "      <th>1</th>\n",
       "      <td>2017</td>\n",
       "      <td>1 - Male</td>\n",
       "      <td>Brazil</td>\n",
       "      <td>1468940</td>\n",
       "    </tr>\n",
       "    <tr>\n",
       "      <th>2</th>\n",
       "      <td>2017</td>\n",
       "      <td>1 - Male</td>\n",
       "      <td>Canada</td>\n",
       "      <td>282198</td>\n",
       "    </tr>\n",
       "    <tr>\n",
       "      <th>3</th>\n",
       "      <td>2017</td>\n",
       "      <td>1 - Male</td>\n",
       "      <td>Chile</td>\n",
       "      <td>111546</td>\n",
       "    </tr>\n",
       "    <tr>\n",
       "      <th>4</th>\n",
       "      <td>2017</td>\n",
       "      <td>1 - Male</td>\n",
       "      <td>Iceland</td>\n",
       "      <td>2248</td>\n",
       "    </tr>\n",
       "    <tr>\n",
       "      <th>5</th>\n",
       "      <td>2017</td>\n",
       "      <td>1 - Male</td>\n",
       "      <td>Israel</td>\n",
       "      <td>45296</td>\n",
       "    </tr>\n",
       "    <tr>\n",
       "      <th>6</th>\n",
       "      <td>2017</td>\n",
       "      <td>1 - Male</td>\n",
       "      <td>Japan</td>\n",
       "      <td>1381366</td>\n",
       "    </tr>\n",
       "    <tr>\n",
       "      <th>7</th>\n",
       "      <td>2017</td>\n",
       "      <td>1 - Male</td>\n",
       "      <td>Poland</td>\n",
       "      <td>415342</td>\n",
       "    </tr>\n",
       "    <tr>\n",
       "      <th>8</th>\n",
       "      <td>2017</td>\n",
       "      <td>1 - Male</td>\n",
       "      <td>Singapore</td>\n",
       "      <td>21348</td>\n",
       "    </tr>\n",
       "    <tr>\n",
       "      <th>9</th>\n",
       "      <td>2017</td>\n",
       "      <td>1 - Male</td>\n",
       "      <td>Sweden</td>\n",
       "      <td>89866</td>\n",
       "    </tr>\n",
       "    <tr>\n",
       "      <th>10</th>\n",
       "      <td>2017</td>\n",
       "      <td>1 - Male</td>\n",
       "      <td>Tunisia</td>\n",
       "      <td>29636</td>\n",
       "    </tr>\n",
       "    <tr>\n",
       "      <th>11</th>\n",
       "      <td>2017</td>\n",
       "      <td>1 - Male</td>\n",
       "      <td>United States of America</td>\n",
       "      <td>2878222</td>\n",
       "    </tr>\n",
       "    <tr>\n",
       "      <th>12</th>\n",
       "      <td>2017</td>\n",
       "      <td>2 - Female</td>\n",
       "      <td>Australia</td>\n",
       "      <td>156218</td>\n",
       "    </tr>\n",
       "    <tr>\n",
       "      <th>13</th>\n",
       "      <td>2017</td>\n",
       "      <td>2 - Female</td>\n",
       "      <td>Brazil</td>\n",
       "      <td>1155146</td>\n",
       "    </tr>\n",
       "    <tr>\n",
       "      <th>14</th>\n",
       "      <td>2017</td>\n",
       "      <td>2 - Female</td>\n",
       "      <td>Canada</td>\n",
       "      <td>271180</td>\n",
       "    </tr>\n",
       "    <tr>\n",
       "      <th>15</th>\n",
       "      <td>2017</td>\n",
       "      <td>2 - Female</td>\n",
       "      <td>Chile</td>\n",
       "      <td>101186</td>\n",
       "    </tr>\n",
       "    <tr>\n",
       "      <th>16</th>\n",
       "      <td>2017</td>\n",
       "      <td>2 - Female</td>\n",
       "      <td>Iceland</td>\n",
       "      <td>2224</td>\n",
       "    </tr>\n",
       "    <tr>\n",
       "      <th>17</th>\n",
       "      <td>2017</td>\n",
       "      <td>2 - Female</td>\n",
       "      <td>Israel</td>\n",
       "      <td>43896</td>\n",
       "    </tr>\n",
       "    <tr>\n",
       "      <th>18</th>\n",
       "      <td>2017</td>\n",
       "      <td>2 - Female</td>\n",
       "      <td>Japan</td>\n",
       "      <td>1299428</td>\n",
       "    </tr>\n",
       "    <tr>\n",
       "      <th>19</th>\n",
       "      <td>2017</td>\n",
       "      <td>2 - Female</td>\n",
       "      <td>Poland</td>\n",
       "      <td>390362</td>\n",
       "    </tr>\n",
       "  </tbody>\n",
       "</table>\n",
       "</div>"
      ],
      "text/plain": [
       "    Year         Sex              Country Name  Deaths: All Ages\n",
       "0   2017    1 - Male                 Australia            165948\n",
       "1   2017    1 - Male                    Brazil           1468940\n",
       "2   2017    1 - Male                    Canada            282198\n",
       "3   2017    1 - Male                     Chile            111546\n",
       "4   2017    1 - Male                   Iceland              2248\n",
       "5   2017    1 - Male                    Israel             45296\n",
       "6   2017    1 - Male                     Japan           1381366\n",
       "7   2017    1 - Male                    Poland            415342\n",
       "8   2017    1 - Male                 Singapore             21348\n",
       "9   2017    1 - Male                    Sweden             89866\n",
       "10  2017    1 - Male                   Tunisia             29636\n",
       "11  2017    1 - Male  United States of America           2878222\n",
       "12  2017  2 - Female                 Australia            156218\n",
       "13  2017  2 - Female                    Brazil           1155146\n",
       "14  2017  2 - Female                    Canada            271180\n",
       "15  2017  2 - Female                     Chile            101186\n",
       "16  2017  2 - Female                   Iceland              2224\n",
       "17  2017  2 - Female                    Israel             43896\n",
       "18  2017  2 - Female                     Japan           1299428\n",
       "19  2017  2 - Female                    Poland            390362"
      ]
     },
     "execution_count": 23,
     "metadata": {},
     "output_type": "execute_result"
    }
   ],
   "source": [
    "#Check the Data\n",
    "WHO_group.head(20)"
   ]
  },
  {
   "cell_type": "code",
   "execution_count": 7,
   "metadata": {},
   "outputs": [],
   "source": [
    "#clear out unused cloumns\n",
    "WHO_group.drop(columns=[\"Deaths: 0-1 Years\",\"Deaths: 1-24 Years\",\"Deaths: 25-44 Years\"], inplace= True)\n",
    "WHO_group.drop(columns=[\"Deaths: 45-69 Years\",\"Deaths: 70-95+ Years\",\"Deaths: Age Not Specified\",\"Age Format\",\"Deaths: Smoketest All Ages\"], inplace=True)\n",
    "WHO_group.drop(columns=[\"Country Code\", 'Region', \"ICD Code\", \"ICD Category\", \"ICD10 Version\"], inplace=True)"
   ]
  },
  {
   "cell_type": "code",
   "execution_count": 8,
   "metadata": {},
   "outputs": [],
   "source": [
    "#group the data to plot\n",
    "WHO_Country = WHO_group.groupby([\"Sex\", \"Country Name\",\"Deaths: All Ages\"]).sum()\n",
    "WHO_Country.reset_index(inplace=True)\n",
    "\n",
    "y_death = WHO_Country[\"Country Name\"]\n",
    "x_M = WHO_Country.loc[WHO_Country[\"Sex\"] == \"1 - Male\", \"Deaths: All Ages\"]\n",
    "x_F = WHO_Country.loc[WHO_Country[\"Sex\"] == \"2 - Female\", \"Deaths: All Ages\"] * -1\n",
    "\n"
   ]
  },
  {
   "cell_type": "code",
   "execution_count": 9,
   "metadata": {},
   "outputs": [
    {
     "data": {
      "application/vnd.plotly.v1+json": {
       "config": {
        "plotlyServerURL": "https://plot.ly"
       },
       "data": [
        {
         "marker": {
          "color": "cornflowerblue"
         },
         "name": "Male",
         "orientation": "h",
         "type": "bar",
         "x": [
          164882,
          165948,
          169176,
          176222,
          178802,
          1467232,
          1468940,
          1491038,
          1748334,
          2030700,
          282198,
          291542,
          292684,
          319444,
          327452,
          111546,
          112186,
          115264,
          135272,
          146870,
          2248,
          2278,
          2314,
          2334,
          2356,
          44846,
          45296,
          46016,
          49840,
          51550,
          1381366,
          1398276,
          1413668,
          1414842,
          1476282,
          415342,
          422846,
          427294,
          499488,
          537316,
          21348,
          21728,
          21946,
          23262,
          25390,
          88636,
          89866,
          90912,
          93112,
          99424,
          29636,
          47934,
          74168,
          2878222,
          2916938,
          2947646,
          3539768,
          3676216
         ],
         "y": [
          "Australia",
          "Australia",
          "Australia",
          "Australia",
          "Australia",
          "Brazil",
          "Brazil",
          "Brazil",
          "Brazil",
          "Brazil",
          "Canada",
          "Canada",
          "Canada",
          "Canada",
          "Canada",
          "Chile",
          "Chile",
          "Chile",
          "Chile",
          "Chile",
          "Iceland",
          "Iceland",
          "Iceland",
          "Iceland",
          "Iceland",
          "Israel",
          "Israel",
          "Israel",
          "Israel",
          "Israel",
          "Japan",
          "Japan",
          "Japan",
          "Japan",
          "Japan",
          "Poland",
          "Poland",
          "Poland",
          "Poland",
          "Poland",
          "Singapore",
          "Singapore",
          "Singapore",
          "Singapore",
          "Singapore",
          "Sweden",
          "Sweden",
          "Sweden",
          "Sweden",
          "Sweden",
          "Tunisia",
          "Tunisia",
          "Tunisia",
          "United States of America",
          "United States of America",
          "United States of America",
          "United States of America",
          "United States of America",
          "Australia",
          "Australia",
          "Australia",
          "Australia",
          "Australia",
          "Brazil",
          "Brazil",
          "Brazil",
          "Brazil",
          "Brazil",
          "Canada",
          "Canada",
          "Canada",
          "Canada",
          "Canada",
          "Chile",
          "Chile",
          "Chile",
          "Chile",
          "Chile",
          "Iceland",
          "Iceland",
          "Iceland",
          "Iceland",
          "Iceland",
          "Israel",
          "Israel",
          "Israel",
          "Israel",
          "Israel",
          "Japan",
          "Japan",
          "Japan",
          "Japan",
          "Japan",
          "Poland",
          "Poland",
          "Poland",
          "Poland",
          "Poland",
          "Singapore",
          "Singapore",
          "Singapore",
          "Singapore",
          "Singapore",
          "Sweden",
          "Sweden",
          "Sweden",
          "Sweden",
          "Sweden",
          "Tunisia",
          "Tunisia",
          "Tunisia",
          "United States of America",
          "United States of America",
          "United States of America",
          "United States of America",
          "United States of America"
         ]
        },
        {
         "marker": {
          "color": "orchid"
         },
         "name": "Female",
         "orientation": "h",
         "type": "bar",
         "x": [
          -152438,
          -153424,
          -156218,
          -161702,
          -164136,
          -1155146,
          -1164914,
          -1207450,
          -1364054,
          -1633232,
          -271180,
          -277918,
          -279866,
          -295828,
          -297380,
          -101186,
          -101368,
          -104020,
          -117038,
          -128364,
          -2224,
          -2238,
          -2240,
          -2276,
          -2310,
          -43896,
          -44228,
          -45992,
          -47754,
          -49994,
          -1299428,
          -1326664,
          -1331842,
          -1347344,
          -1403430,
          -390362,
          -396572,
          -401106,
          -455222,
          -501718,
          -18178,
          -18460,
          -18630,
          -18706,
          -21150,
          -89770,
          -91046,
          -93588,
          -94284,
          -97764,
          -21644,
          -36672,
          -59996,
          -2748784,
          -2761472,
          -2762030,
          -3227690,
          -3252246
         ],
         "y": [
          "Australia",
          "Australia",
          "Australia",
          "Australia",
          "Australia",
          "Brazil",
          "Brazil",
          "Brazil",
          "Brazil",
          "Brazil",
          "Canada",
          "Canada",
          "Canada",
          "Canada",
          "Canada",
          "Chile",
          "Chile",
          "Chile",
          "Chile",
          "Chile",
          "Iceland",
          "Iceland",
          "Iceland",
          "Iceland",
          "Iceland",
          "Israel",
          "Israel",
          "Israel",
          "Israel",
          "Israel",
          "Japan",
          "Japan",
          "Japan",
          "Japan",
          "Japan",
          "Poland",
          "Poland",
          "Poland",
          "Poland",
          "Poland",
          "Singapore",
          "Singapore",
          "Singapore",
          "Singapore",
          "Singapore",
          "Sweden",
          "Sweden",
          "Sweden",
          "Sweden",
          "Sweden",
          "Tunisia",
          "Tunisia",
          "Tunisia",
          "United States of America",
          "United States of America",
          "United States of America",
          "United States of America",
          "United States of America",
          "Australia",
          "Australia",
          "Australia",
          "Australia",
          "Australia",
          "Brazil",
          "Brazil",
          "Brazil",
          "Brazil",
          "Brazil",
          "Canada",
          "Canada",
          "Canada",
          "Canada",
          "Canada",
          "Chile",
          "Chile",
          "Chile",
          "Chile",
          "Chile",
          "Iceland",
          "Iceland",
          "Iceland",
          "Iceland",
          "Iceland",
          "Israel",
          "Israel",
          "Israel",
          "Israel",
          "Israel",
          "Japan",
          "Japan",
          "Japan",
          "Japan",
          "Japan",
          "Poland",
          "Poland",
          "Poland",
          "Poland",
          "Poland",
          "Singapore",
          "Singapore",
          "Singapore",
          "Singapore",
          "Singapore",
          "Sweden",
          "Sweden",
          "Sweden",
          "Sweden",
          "Sweden",
          "Tunisia",
          "Tunisia",
          "Tunisia",
          "United States of America",
          "United States of America",
          "United States of America",
          "United States of America",
          "United States of America"
         ]
        }
       ],
       "layout": {
        "bargap": 0,
        "bargroupgap": 0,
        "barmode": "relative",
        "template": {
         "data": {
          "bar": [
           {
            "error_x": {
             "color": "#2a3f5f"
            },
            "error_y": {
             "color": "#2a3f5f"
            },
            "marker": {
             "line": {
              "color": "#E5ECF6",
              "width": 0.5
             },
             "pattern": {
              "fillmode": "overlay",
              "size": 10,
              "solidity": 0.2
             }
            },
            "type": "bar"
           }
          ],
          "barpolar": [
           {
            "marker": {
             "line": {
              "color": "#E5ECF6",
              "width": 0.5
             },
             "pattern": {
              "fillmode": "overlay",
              "size": 10,
              "solidity": 0.2
             }
            },
            "type": "barpolar"
           }
          ],
          "carpet": [
           {
            "aaxis": {
             "endlinecolor": "#2a3f5f",
             "gridcolor": "white",
             "linecolor": "white",
             "minorgridcolor": "white",
             "startlinecolor": "#2a3f5f"
            },
            "baxis": {
             "endlinecolor": "#2a3f5f",
             "gridcolor": "white",
             "linecolor": "white",
             "minorgridcolor": "white",
             "startlinecolor": "#2a3f5f"
            },
            "type": "carpet"
           }
          ],
          "choropleth": [
           {
            "colorbar": {
             "outlinewidth": 0,
             "ticks": ""
            },
            "type": "choropleth"
           }
          ],
          "contour": [
           {
            "colorbar": {
             "outlinewidth": 0,
             "ticks": ""
            },
            "colorscale": [
             [
              0,
              "#0d0887"
             ],
             [
              0.1111111111111111,
              "#46039f"
             ],
             [
              0.2222222222222222,
              "#7201a8"
             ],
             [
              0.3333333333333333,
              "#9c179e"
             ],
             [
              0.4444444444444444,
              "#bd3786"
             ],
             [
              0.5555555555555556,
              "#d8576b"
             ],
             [
              0.6666666666666666,
              "#ed7953"
             ],
             [
              0.7777777777777778,
              "#fb9f3a"
             ],
             [
              0.8888888888888888,
              "#fdca26"
             ],
             [
              1,
              "#f0f921"
             ]
            ],
            "type": "contour"
           }
          ],
          "contourcarpet": [
           {
            "colorbar": {
             "outlinewidth": 0,
             "ticks": ""
            },
            "type": "contourcarpet"
           }
          ],
          "heatmap": [
           {
            "colorbar": {
             "outlinewidth": 0,
             "ticks": ""
            },
            "colorscale": [
             [
              0,
              "#0d0887"
             ],
             [
              0.1111111111111111,
              "#46039f"
             ],
             [
              0.2222222222222222,
              "#7201a8"
             ],
             [
              0.3333333333333333,
              "#9c179e"
             ],
             [
              0.4444444444444444,
              "#bd3786"
             ],
             [
              0.5555555555555556,
              "#d8576b"
             ],
             [
              0.6666666666666666,
              "#ed7953"
             ],
             [
              0.7777777777777778,
              "#fb9f3a"
             ],
             [
              0.8888888888888888,
              "#fdca26"
             ],
             [
              1,
              "#f0f921"
             ]
            ],
            "type": "heatmap"
           }
          ],
          "heatmapgl": [
           {
            "colorbar": {
             "outlinewidth": 0,
             "ticks": ""
            },
            "colorscale": [
             [
              0,
              "#0d0887"
             ],
             [
              0.1111111111111111,
              "#46039f"
             ],
             [
              0.2222222222222222,
              "#7201a8"
             ],
             [
              0.3333333333333333,
              "#9c179e"
             ],
             [
              0.4444444444444444,
              "#bd3786"
             ],
             [
              0.5555555555555556,
              "#d8576b"
             ],
             [
              0.6666666666666666,
              "#ed7953"
             ],
             [
              0.7777777777777778,
              "#fb9f3a"
             ],
             [
              0.8888888888888888,
              "#fdca26"
             ],
             [
              1,
              "#f0f921"
             ]
            ],
            "type": "heatmapgl"
           }
          ],
          "histogram": [
           {
            "marker": {
             "pattern": {
              "fillmode": "overlay",
              "size": 10,
              "solidity": 0.2
             }
            },
            "type": "histogram"
           }
          ],
          "histogram2d": [
           {
            "colorbar": {
             "outlinewidth": 0,
             "ticks": ""
            },
            "colorscale": [
             [
              0,
              "#0d0887"
             ],
             [
              0.1111111111111111,
              "#46039f"
             ],
             [
              0.2222222222222222,
              "#7201a8"
             ],
             [
              0.3333333333333333,
              "#9c179e"
             ],
             [
              0.4444444444444444,
              "#bd3786"
             ],
             [
              0.5555555555555556,
              "#d8576b"
             ],
             [
              0.6666666666666666,
              "#ed7953"
             ],
             [
              0.7777777777777778,
              "#fb9f3a"
             ],
             [
              0.8888888888888888,
              "#fdca26"
             ],
             [
              1,
              "#f0f921"
             ]
            ],
            "type": "histogram2d"
           }
          ],
          "histogram2dcontour": [
           {
            "colorbar": {
             "outlinewidth": 0,
             "ticks": ""
            },
            "colorscale": [
             [
              0,
              "#0d0887"
             ],
             [
              0.1111111111111111,
              "#46039f"
             ],
             [
              0.2222222222222222,
              "#7201a8"
             ],
             [
              0.3333333333333333,
              "#9c179e"
             ],
             [
              0.4444444444444444,
              "#bd3786"
             ],
             [
              0.5555555555555556,
              "#d8576b"
             ],
             [
              0.6666666666666666,
              "#ed7953"
             ],
             [
              0.7777777777777778,
              "#fb9f3a"
             ],
             [
              0.8888888888888888,
              "#fdca26"
             ],
             [
              1,
              "#f0f921"
             ]
            ],
            "type": "histogram2dcontour"
           }
          ],
          "mesh3d": [
           {
            "colorbar": {
             "outlinewidth": 0,
             "ticks": ""
            },
            "type": "mesh3d"
           }
          ],
          "parcoords": [
           {
            "line": {
             "colorbar": {
              "outlinewidth": 0,
              "ticks": ""
             }
            },
            "type": "parcoords"
           }
          ],
          "pie": [
           {
            "automargin": true,
            "type": "pie"
           }
          ],
          "scatter": [
           {
            "fillpattern": {
             "fillmode": "overlay",
             "size": 10,
             "solidity": 0.2
            },
            "type": "scatter"
           }
          ],
          "scatter3d": [
           {
            "line": {
             "colorbar": {
              "outlinewidth": 0,
              "ticks": ""
             }
            },
            "marker": {
             "colorbar": {
              "outlinewidth": 0,
              "ticks": ""
             }
            },
            "type": "scatter3d"
           }
          ],
          "scattercarpet": [
           {
            "marker": {
             "colorbar": {
              "outlinewidth": 0,
              "ticks": ""
             }
            },
            "type": "scattercarpet"
           }
          ],
          "scattergeo": [
           {
            "marker": {
             "colorbar": {
              "outlinewidth": 0,
              "ticks": ""
             }
            },
            "type": "scattergeo"
           }
          ],
          "scattergl": [
           {
            "marker": {
             "colorbar": {
              "outlinewidth": 0,
              "ticks": ""
             }
            },
            "type": "scattergl"
           }
          ],
          "scattermapbox": [
           {
            "marker": {
             "colorbar": {
              "outlinewidth": 0,
              "ticks": ""
             }
            },
            "type": "scattermapbox"
           }
          ],
          "scatterpolar": [
           {
            "marker": {
             "colorbar": {
              "outlinewidth": 0,
              "ticks": ""
             }
            },
            "type": "scatterpolar"
           }
          ],
          "scatterpolargl": [
           {
            "marker": {
             "colorbar": {
              "outlinewidth": 0,
              "ticks": ""
             }
            },
            "type": "scatterpolargl"
           }
          ],
          "scatterternary": [
           {
            "marker": {
             "colorbar": {
              "outlinewidth": 0,
              "ticks": ""
             }
            },
            "type": "scatterternary"
           }
          ],
          "surface": [
           {
            "colorbar": {
             "outlinewidth": 0,
             "ticks": ""
            },
            "colorscale": [
             [
              0,
              "#0d0887"
             ],
             [
              0.1111111111111111,
              "#46039f"
             ],
             [
              0.2222222222222222,
              "#7201a8"
             ],
             [
              0.3333333333333333,
              "#9c179e"
             ],
             [
              0.4444444444444444,
              "#bd3786"
             ],
             [
              0.5555555555555556,
              "#d8576b"
             ],
             [
              0.6666666666666666,
              "#ed7953"
             ],
             [
              0.7777777777777778,
              "#fb9f3a"
             ],
             [
              0.8888888888888888,
              "#fdca26"
             ],
             [
              1,
              "#f0f921"
             ]
            ],
            "type": "surface"
           }
          ],
          "table": [
           {
            "cells": {
             "fill": {
              "color": "#EBF0F8"
             },
             "line": {
              "color": "white"
             }
            },
            "header": {
             "fill": {
              "color": "#C8D4E3"
             },
             "line": {
              "color": "white"
             }
            },
            "type": "table"
           }
          ]
         },
         "layout": {
          "annotationdefaults": {
           "arrowcolor": "#2a3f5f",
           "arrowhead": 0,
           "arrowwidth": 1
          },
          "autotypenumbers": "strict",
          "coloraxis": {
           "colorbar": {
            "outlinewidth": 0,
            "ticks": ""
           }
          },
          "colorscale": {
           "diverging": [
            [
             0,
             "#8e0152"
            ],
            [
             0.1,
             "#c51b7d"
            ],
            [
             0.2,
             "#de77ae"
            ],
            [
             0.3,
             "#f1b6da"
            ],
            [
             0.4,
             "#fde0ef"
            ],
            [
             0.5,
             "#f7f7f7"
            ],
            [
             0.6,
             "#e6f5d0"
            ],
            [
             0.7,
             "#b8e186"
            ],
            [
             0.8,
             "#7fbc41"
            ],
            [
             0.9,
             "#4d9221"
            ],
            [
             1,
             "#276419"
            ]
           ],
           "sequential": [
            [
             0,
             "#0d0887"
            ],
            [
             0.1111111111111111,
             "#46039f"
            ],
            [
             0.2222222222222222,
             "#7201a8"
            ],
            [
             0.3333333333333333,
             "#9c179e"
            ],
            [
             0.4444444444444444,
             "#bd3786"
            ],
            [
             0.5555555555555556,
             "#d8576b"
            ],
            [
             0.6666666666666666,
             "#ed7953"
            ],
            [
             0.7777777777777778,
             "#fb9f3a"
            ],
            [
             0.8888888888888888,
             "#fdca26"
            ],
            [
             1,
             "#f0f921"
            ]
           ],
           "sequentialminus": [
            [
             0,
             "#0d0887"
            ],
            [
             0.1111111111111111,
             "#46039f"
            ],
            [
             0.2222222222222222,
             "#7201a8"
            ],
            [
             0.3333333333333333,
             "#9c179e"
            ],
            [
             0.4444444444444444,
             "#bd3786"
            ],
            [
             0.5555555555555556,
             "#d8576b"
            ],
            [
             0.6666666666666666,
             "#ed7953"
            ],
            [
             0.7777777777777778,
             "#fb9f3a"
            ],
            [
             0.8888888888888888,
             "#fdca26"
            ],
            [
             1,
             "#f0f921"
            ]
           ]
          },
          "colorway": [
           "#636efa",
           "#EF553B",
           "#00cc96",
           "#ab63fa",
           "#FFA15A",
           "#19d3f3",
           "#FF6692",
           "#B6E880",
           "#FF97FF",
           "#FECB52"
          ],
          "font": {
           "color": "#2a3f5f"
          },
          "geo": {
           "bgcolor": "white",
           "lakecolor": "white",
           "landcolor": "#E5ECF6",
           "showlakes": true,
           "showland": true,
           "subunitcolor": "white"
          },
          "hoverlabel": {
           "align": "left"
          },
          "hovermode": "closest",
          "mapbox": {
           "style": "light"
          },
          "paper_bgcolor": "white",
          "plot_bgcolor": "#E5ECF6",
          "polar": {
           "angularaxis": {
            "gridcolor": "white",
            "linecolor": "white",
            "ticks": ""
           },
           "bgcolor": "#E5ECF6",
           "radialaxis": {
            "gridcolor": "white",
            "linecolor": "white",
            "ticks": ""
           }
          },
          "scene": {
           "xaxis": {
            "backgroundcolor": "#E5ECF6",
            "gridcolor": "white",
            "gridwidth": 2,
            "linecolor": "white",
            "showbackground": true,
            "ticks": "",
            "zerolinecolor": "white"
           },
           "yaxis": {
            "backgroundcolor": "#E5ECF6",
            "gridcolor": "white",
            "gridwidth": 2,
            "linecolor": "white",
            "showbackground": true,
            "ticks": "",
            "zerolinecolor": "white"
           },
           "zaxis": {
            "backgroundcolor": "#E5ECF6",
            "gridcolor": "white",
            "gridwidth": 2,
            "linecolor": "white",
            "showbackground": true,
            "ticks": "",
            "zerolinecolor": "white"
           }
          },
          "shapedefaults": {
           "line": {
            "color": "#2a3f5f"
           }
          },
          "ternary": {
           "aaxis": {
            "gridcolor": "white",
            "linecolor": "white",
            "ticks": ""
           },
           "baxis": {
            "gridcolor": "white",
            "linecolor": "white",
            "ticks": ""
           },
           "bgcolor": "#E5ECF6",
           "caxis": {
            "gridcolor": "white",
            "linecolor": "white",
            "ticks": ""
           }
          },
          "title": {
           "x": 0.05
          },
          "xaxis": {
           "automargin": true,
           "gridcolor": "white",
           "linecolor": "white",
           "ticks": "",
           "title": {
            "standoff": 15
           },
           "zerolinecolor": "white",
           "zerolinewidth": 2
          },
          "yaxis": {
           "automargin": true,
           "gridcolor": "white",
           "linecolor": "white",
           "ticks": "",
           "title": {
            "standoff": 15
           },
           "zerolinecolor": "white",
           "zerolinewidth": 2
          }
         }
        },
        "title": {
         "font": {
          "size": 22
         },
         "text": "Total Deaths by Gender 2017-2021"
        },
        "xaxis": {
         "ticktext": [
          "15M",
          "10M",
          "7M",
          "6M",
          "5M",
          "4M",
          "3M",
          "2M",
          "1M",
          "0",
          "1M",
          "2M",
          "3M",
          "4M",
          "5M",
          "6M",
          "7M",
          "10M",
          "15M"
         ],
         "tickvals": [
          -15000000,
          -10000000,
          -7000000,
          -6000000,
          -5000000,
          -4000000,
          -3000000,
          -2000000,
          -1000000,
          0,
          1000000,
          2000000,
          3000000,
          4000000,
          5000000,
          6000000,
          7000000,
          10000000,
          15000000
         ],
         "title": {
          "font": {
           "size": 14
          },
          "text": "Death in Millions"
         }
        }
       }
      }
     },
     "metadata": {},
     "output_type": "display_data"
    }
   ],
   "source": [
    "\n",
    "# Creating instance of the figure \n",
    "fig = gp.Figure() \n",
    "  \n",
    "# Adding Male data to the figure \n",
    "fig.add_trace(gp.Bar(y= y_death, x = x_M,  \n",
    "                     name = 'Male', \n",
    "                     marker={'color': 'cornflowerblue'},\n",
    "                     orientation = 'h')) \n",
    "  \n",
    "# Adding Female data to the figure \n",
    "fig.add_trace(gp.Bar(y = y_death, x = x_F,\n",
    "                     marker={'color': 'orchid'}, \n",
    "                     name = 'Female', orientation = 'h')) \n",
    "  \n",
    "# Updating the layout for our graph \n",
    "fig.update_layout(title = 'Total Deaths by Gender 2017-2021', \n",
    "                 title_font_size = 22, barmode = 'relative', \n",
    "                 bargap = 0.0, bargroupgap = 0, \n",
    "                 xaxis = dict(tickvals = [-15000000,-10000000, -7000000, -6000000, -5000000, -4000000, -3000000, -2000000, -1000000, \n",
    "                                          0, 1000000, 2000000, 3000000, 4000000, 5000000, 6000000, 7000000, 10000000, 15000000], \n",
    "                                \n",
    "                              ticktext = [\"15M\",\"10M\",\"7M\",\"6M\",\"5M\",\"4M\",\"3M\",\"2M\",\"1M\",\"0\",  \n",
    "                                          \"1M\",\"2M\",\"3M\",\"4M\",\"5M\",\"6M\",\"7M\",\"10M\",\"15M\"], \n",
    "                                \n",
    "                              title = 'Death in Millions', \n",
    "                              title_font_size = 14) \n",
    "                 ) \n",
    "  \n",
    "fig.show()"
   ]
  },
  {
   "cell_type": "code",
   "execution_count": null,
   "metadata": {},
   "outputs": [],
   "source": []
  }
 ],
 "metadata": {
  "kernelspec": {
   "display_name": "dev",
   "language": "python",
   "name": "python3"
  },
  "language_info": {
   "codemirror_mode": {
    "name": "ipython",
    "version": 3
   },
   "file_extension": ".py",
   "mimetype": "text/x-python",
   "name": "python",
   "nbconvert_exporter": "python",
   "pygments_lexer": "ipython3",
   "version": "3.10.14"
  }
 },
 "nbformat": 4,
 "nbformat_minor": 2
}
