{
 "cells": [
  {
   "cell_type": "markdown",
   "metadata": {},
   "source": [
    "## Do Imports"
   ]
  },
  {
   "cell_type": "code",
   "execution_count": 1,
   "metadata": {},
   "outputs": [],
   "source": [
    "import pandas as pd\n",
    "pd.set_option('display.max_rows', None)"
   ]
  },
  {
   "cell_type": "markdown",
   "metadata": {},
   "source": [
    "## Read in Data Files"
   ]
  },
  {
   "cell_type": "code",
   "execution_count": 5,
   "metadata": {},
   "outputs": [
    {
     "name": "stderr",
     "output_type": "stream",
     "text": [
      "/var/folders/rr/f4rnf7xj5tj1x2gknbjs4mxm0000gn/T/ipykernel_22540/1879740660.py:2: DtypeWarning: Columns (2) have mixed types. Specify dtype option on import or set low_memory=False.\n",
      "  df_mort = pd.read_csv('.././resources/source_data/Morticd10_part5_rev.csv')\n"
     ]
    }
   ],
   "source": [
    "# Read WHO morbidity data\n",
    "df_mort = pd.read_csv('.././resources/source_data/Morticd10_part5_rev.csv')\n",
    "\n",
    "# Read WHO country names with codes, to be merged with morbidity data\n",
    "df_countries = pd.read_csv('.././resources/source_data/country_codes.csv')\n",
    "\n",
    "# Read the list of countries to be used for our reporting\n",
    "df_filtered_countries = pd.read_csv('.././resources/source_data/filtered_countries.csv')\n",
    "\n",
    "# Read the ICD 10 codes data for versions 103 and 104\n",
    "df_icd10 = pd.read_csv('.././resources/source_data/ICDCodeSet.csv')\n",
    "\n",
    "# Read the ICD 10 codes data for version 101\n",
    "df_icd10_version_101 = pd.read_csv('.././resources/source_data/ICD10_codes_v101.csv')\n",
    "\n",
    "# Read the ICD 10 categories data\n",
    "df_icd10_categories = pd.read_csv('.././resources/source_data/ICD10_categories.csv')"
   ]
  },
  {
   "cell_type": "markdown",
   "metadata": {},
   "source": [
    "## Validate the imported data\n",
    "Show the first few rows of each DataFrame"
   ]
  },
  {
   "cell_type": "code",
   "execution_count": null,
   "metadata": {},
   "outputs": [],
   "source": [
    "display(df_mort.head(2))\n",
    "display(df_countries.head(2))\n",
    "display(df_filtered_countries.head(2))\n",
    "display(df_icd10.head(2))\n",
    "display(df_icd10_categories.head(2))\n",
    "display(df_icd10_version_101.head(2))"
   ]
  },
  {
   "cell_type": "markdown",
   "metadata": {},
   "source": [
    "## Create a new DataFrame for cleaning"
   ]
  },
  {
   "cell_type": "code",
   "execution_count": null,
   "metadata": {},
   "outputs": [],
   "source": [
    "# Copy the df_mort DataFrame into a new DataFrame named `df_cleaning`\n",
    "df_cleaning = df_mort.copy()\n",
    "display(df_cleaning.head(2))"
   ]
  },
  {
   "cell_type": "markdown",
   "metadata": {},
   "source": [
    "## Update the DataFrame to use the filtered set of countries\n",
    "The `filtered_countries.csv` file contains a list of 12 countries we are focusing on for our project. Our DataFrame should be filtered to this set."
   ]
  },
  {
   "cell_type": "code",
   "execution_count": null,
   "metadata": {},
   "outputs": [],
   "source": [
    "df_merged = df_cleaning.merge(df_filtered_countries, on='Country', how='inner')\n",
    "display(df_merged.head(3))\n",
    "display(df_merged.tail(3))"
   ]
  },
  {
   "cell_type": "markdown",
   "metadata": {},
   "source": [
    "## Update dataset to use the years 2017 - 2021"
   ]
  },
  {
   "cell_type": "code",
   "execution_count": null,
   "metadata": {},
   "outputs": [],
   "source": [
    "# Count the number of rows for the year 2022 before filtering\n",
    "rows_2022_before = df_merged[df_merged['Year'] == 2022].shape[0]\n",
    "\n",
    "# Filter the DataFrame for years between 2017 and 2021\n",
    "df_filtered = df_merged.query('2017 <= Year <= 2021')\n",
    "\n",
    "# Verify the result of filtering\n",
    "print(df_filtered[['Year']].drop_duplicates().sort_values(by='Year'))\n",
    "\n",
    "# Calculate the number of rows for 2022 that will be dropped\n",
    "rows_dropped_2022 = rows_2022_before\n",
    "\n",
    "# Print the number of rows that will be dropped\n",
    "print(f\"Number of rows for the year 2022 that will be dropped: {rows_dropped_2022:,}\")"
   ]
  },
  {
   "cell_type": "code",
   "execution_count": null,
   "metadata": {},
   "outputs": [],
   "source": [
    "# Filter the DataFrame for years between 2017 and 2021\n",
    "df_merged = df_merged.query('2017 <= Year <= 2021')"
   ]
  },
  {
   "cell_type": "markdown",
   "metadata": {},
   "source": [
    "## Verify the filtered results for the country list and the years"
   ]
  },
  {
   "cell_type": "code",
   "execution_count": null,
   "metadata": {},
   "outputs": [],
   "source": [
    "# Verify the result of filtering out 2022\n",
    "print(df_merged[['Year']].drop_duplicates().sort_values(by='Year'))"
   ]
  },
  {
   "cell_type": "code",
   "execution_count": null,
   "metadata": {},
   "outputs": [],
   "source": [
    "# Compare the length of the unfiltered DataFrame with the new filtered DataFrame\n",
    "length_diff = len(df_cleaning) - len(df_merged)\n",
    "print(f\"There are {len(df_cleaning):,} rows in the full dataset and {len(df_merged):,} rows in the filtered DataFrame. Result: The filtered DataFrame is {length_diff:,} shorter.\")"
   ]
  },
  {
   "cell_type": "markdown",
   "metadata": {},
   "source": [
    "## Merge in the ICD10 Code descriptions"
   ]
  },
  {
   "cell_type": "code",
   "execution_count": null,
   "metadata": {},
   "outputs": [],
   "source": [
    "# Rename the DataFrame column names for ICD codes\n",
    "df_icd10 = df_icd10.rename(columns={'ICDCode': 'ICD Code', 'detailed_list_numbers': 'Detailed Codes', 'cause': 'ICD Detail'})\n",
    "df_merged = df_merged.rename(columns={'Cause': 'ICD Code'})\n",
    "\n",
    "# Verify renaming\n",
    "print(\"Renamed columns in df_icd10:\", df_icd10.columns)\n",
    "print(\"Renamed columns in df_cleaning:\", df_merged.columns)"
   ]
  },
  {
   "cell_type": "code",
   "execution_count": null,
   "metadata": {},
   "outputs": [],
   "source": [
    "# Merge the ICD Code data into the `df_cleaning` DataFrame\n",
    "\n",
    "df_merged = df_merged.merge(df_icd10, on='ICD Code', how='left')\n",
    "df_merged.head()"
   ]
  },
  {
   "cell_type": "code",
   "execution_count": null,
   "metadata": {},
   "outputs": [],
   "source": [
    "# Function to determine the code description for a given ICD Code\n",
    "def get_code_description(icd_code):\n",
    "    for _, row in df_icd10_categories.iterrows():\n",
    "        start, end = row['code_set'].split('-')\n",
    "        if start <= icd_code <= end:\n",
    "            return row['code_description']\n",
    "    return 'Unknown'\n",
    "\n",
    "# Function to map three-letter ICD-10 codes to categories\n",
    "def map_three_letter_code(icd_code):\n",
    "    # Extract the first three letters of the ICD code\n",
    "    three_letter_code = icd_code[:3]\n",
    "    return get_code_description(three_letter_code)\n",
    "\n",
    "# Assuming merged_df is your existing DataFrame with an 'ICD Code' column\n",
    "# Apply the function to create a new column with the code descriptions\n",
    "df_merged['code_description'] = df_merged['ICD Code'].apply(map_three_letter_code)\n",
    "\n",
    "display(df_merged.head(5))"
   ]
  },
  {
   "cell_type": "markdown",
   "metadata": {},
   "source": [
    "## Drop unused columns"
   ]
  },
  {
   "cell_type": "code",
   "execution_count": null,
   "metadata": {},
   "outputs": [],
   "source": [
    "# Drop the Admin1, SubDiv, IM_Deaths, and IM_Frmat columns since these aren't essential to our analysis\n",
    "\n",
    "im_death_columns = [col for col in df_merged if col.startswith('IM_Deaths')]\n",
    "columns_to_drop = ['Admin1', 'SubDiv', 'IM_Frmat'] + im_death_columns  # Flatten the list\n",
    "df_merged = df_merged.drop(columns=columns_to_drop)\n",
    "print(df_merged.columns)"
   ]
  },
  {
   "cell_type": "markdown",
   "metadata": {},
   "source": [
    "## Update death buckets\n",
    "See this GitHub issue for the list of buckets: https://github.com/users/ShylaTatum/projects/3/views/1?pane=issue&itemId=73940120\n",
    "See this doc in the repository for how the mapping works for the index: `Resources/documentation/Documentation_21Feb2024.doc`"
   ]
  },
  {
   "cell_type": "code",
   "execution_count": null,
   "metadata": {},
   "outputs": [],
   "source": [
    "# Identify columns to group by looking for columns that start with the word `Deaths``\n",
    "deaths_columns = [col for col in df_merged if col.startswith('Deaths')]\n",
    "\n",
    "# Create new grouped columns\n",
    "\n",
    "# All ages - Deaths1 column\n",
    "df_merged['Deaths: All Ages'] = df_merged[deaths_columns[0]]\n",
    "\n",
    "# Smoketest - Sum all Deaths columns\n",
    "df_merged['Deaths: Smoketest All Ages'] = df_merged[deaths_columns[1:]].sum(axis=1)\n",
    "\n",
    "# Between age 0 and 1 - Deaths2 column\n",
    "df_merged['Deaths: 0-1 Years'] = df_merged[deaths_columns[1]]\n",
    "\n",
    "# Between ages 1 and 24 - Deaths3 through Deaths10 columns\n",
    "df_merged['Deaths: 1-24 Years'] = df_merged[deaths_columns[2:11]].sum(axis=1)\n",
    "\n",
    "# Between ages 25 and 44 - Deaths11 through Deaths14 columns\n",
    "df_merged['Deaths: 25-44 Years'] = df_merged[deaths_columns[12:15]].sum(axis=1)\n",
    "\n",
    "# Between ages 45 and 69 - Deaths15 through Deaths19\n",
    "df_merged['Deaths: 45-69 Years'] = df_merged[deaths_columns[16:20]].sum(axis=1)\n",
    "\n",
    "# Ages 70 and older\n",
    "df_merged['Deaths: 70-95+ Years'] = df_merged[deaths_columns[21:24]].sum(axis=1)\n",
    "\n",
    "# Age not specified\n",
    "df_merged['Deaths: Age Not Specified'] = df_merged[deaths_columns[25]]\n",
    "\n",
    "# Drop original deaths columns\n",
    "df_merged = df_merged.drop(columns=deaths_columns)\n",
    "\n",
    "# Verify results\n",
    "display(df_merged.head(5))"
   ]
  },
  {
   "cell_type": "code",
   "execution_count": null,
   "metadata": {},
   "outputs": [],
   "source": [
    "# Get the length of the deaths_columns list\n",
    "length_of_deaths_columns = len(deaths_columns)\n",
    "\n",
    "# Print the length\n",
    "print(length_of_deaths_columns)"
   ]
  },
  {
   "cell_type": "markdown",
   "metadata": {},
   "source": [
    "## Final prettier stuff\n",
    "* Add inline description for sex type\n",
    "* Rename columns\n",
    "* Reorder columns"
   ]
  },
  {
   "cell_type": "code",
   "execution_count": null,
   "metadata": {},
   "outputs": [],
   "source": [
    "# Inline note for Sex\n",
    "\n",
    "# Define mapping dictionary\n",
    "sex_mapping = {\n",
    "    1: '1 - Male', \n",
    "    2: '2 - Female',\n",
    "    9: '9 - Unspecified'\n",
    "}\n",
    "\n",
    "# Apply the mapping to the `Sex` column\n",
    "df_merged['Sex'] = df_merged['Sex'].map(sex_mapping)"
   ]
  },
  {
   "cell_type": "code",
   "execution_count": null,
   "metadata": {},
   "outputs": [],
   "source": [
    "# Rename columns\n",
    "df_merged = df_merged.rename(columns={'Country':'Country Code', 'Description': 'ICD10 Detail', 'List':'ICD10 Version', 'Frmat': 'Age Format', 'code_description':'ICD Category'})"
   ]
  },
  {
   "cell_type": "code",
   "execution_count": null,
   "metadata": {},
   "outputs": [],
   "source": [
    "# Define the desired order of columns\n",
    "ordered_columns = ['Year', 'Country Code', 'Country Name', \n",
    "                   'Region', 'Sex', 'ICD Code', 'ICD Category', 'ICD10 Version', \n",
    "                   'Deaths: All Ages', 'Deaths: 0-1 Years', 'Deaths: 1-24 Years', 'Deaths: 25-44 Years', 'Deaths: 45-69 Years', 'Deaths: 70-95+ Years', 'Deaths: Age Not Specified', 'Age Format', 'Deaths: Smoketest All Ages']\n",
    "\n",
    "# Reorder the columns using reindex\n",
    "df_reordered = df_merged.reindex(columns=ordered_columns)\n",
    "\n",
    "# Display the new DataFrame with reorganized columns\n",
    "display(df_reordered.head())\n"
   ]
  },
  {
   "cell_type": "markdown",
   "metadata": {},
   "source": [
    "## Write out the file\n",
    "This code creates a `final` DataFrame from copying the DataFrame we've been using to clean the data. And then we save it out."
   ]
  },
  {
   "cell_type": "code",
   "execution_count": null,
   "metadata": {},
   "outputs": [],
   "source": [
    "# Name the final DataFrame\n",
    "df_output = df_reordered.copy()\n",
    "display(df_output.head(2))"
   ]
  },
  {
   "cell_type": "code",
   "execution_count": null,
   "metadata": {},
   "outputs": [],
   "source": [
    "# Write out the cleaned CSV\n",
    "df_output.to_csv('Resources/source_data/current_who_mortality_2017_2021.csv', index=False)\n",
    "\n",
    "# Verify the file has been written\n",
    "print(\"CSV file 'current_who_mortality_2017_2021.csv' has been written successfully.\")"
   ]
  },
  {
   "cell_type": "markdown",
   "metadata": {},
   "source": [
    "# Test the new CSV by creating a DataFrame and viewing it"
   ]
  },
  {
   "cell_type": "code",
   "execution_count": null,
   "metadata": {},
   "outputs": [],
   "source": [
    "# Import the CSV\n",
    "df_final = pd.read_csv('Resources/source_data/current_who_mortality_2017_2021.csv')"
   ]
  },
  {
   "cell_type": "code",
   "execution_count": null,
   "metadata": {},
   "outputs": [],
   "source": [
    "# View the first 5 rows of the new DataFrame\n",
    "display(df_final.head(20))\n",
    "df_final.to_csv('df_final.csv', index=False)"
   ]
  }
 ],
 "metadata": {
  "kernelspec": {
   "display_name": "dev",
   "language": "python",
   "name": "python3"
  },
  "language_info": {
   "codemirror_mode": {
    "name": "ipython",
    "version": 3
   },
   "file_extension": ".py",
   "mimetype": "text/x-python",
   "name": "python",
   "nbconvert_exporter": "python",
   "pygments_lexer": "ipython3",
   "version": "3.10.14"
  }
 },
 "nbformat": 4,
 "nbformat_minor": 2
}
