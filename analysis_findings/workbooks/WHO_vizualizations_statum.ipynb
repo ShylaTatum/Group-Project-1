{
 "cells": [
  {
   "cell_type": "code",
   "execution_count": 1,
   "metadata": {},
   "outputs": [],
   "source": [
    "import pandas as pd\n",
    "from pandas import Series, DataFrame\n",
    "import matplotlib.pyplot as plt\n",
    "import numpy as np\n",
    "import plotly.graph_objects as gp"
   ]
  },
  {
   "cell_type": "code",
   "execution_count": 2,
   "metadata": {},
   "outputs": [
    {
     "data": {
      "text/html": [
       "<div>\n",
       "<style scoped>\n",
       "    .dataframe tbody tr th:only-of-type {\n",
       "        vertical-align: middle;\n",
       "    }\n",
       "\n",
       "    .dataframe tbody tr th {\n",
       "        vertical-align: top;\n",
       "    }\n",
       "\n",
       "    .dataframe thead th {\n",
       "        text-align: right;\n",
       "    }\n",
       "</style>\n",
       "<table border=\"1\" class=\"dataframe\">\n",
       "  <thead>\n",
       "    <tr style=\"text-align: right;\">\n",
       "      <th></th>\n",
       "      <th>Year</th>\n",
       "      <th>Country Code</th>\n",
       "      <th>Country Name</th>\n",
       "      <th>Region</th>\n",
       "      <th>Sex</th>\n",
       "      <th>ICD Code</th>\n",
       "      <th>ICD Category</th>\n",
       "      <th>ICD10 Version</th>\n",
       "      <th>Deaths: All Ages</th>\n",
       "      <th>Deaths: 0-1 Years</th>\n",
       "      <th>Deaths: 1-24 Years</th>\n",
       "      <th>Deaths: 25-44 Years</th>\n",
       "      <th>Deaths: 45-69 Years</th>\n",
       "      <th>Deaths: 70-95+ Years</th>\n",
       "      <th>Deaths: Age Not Specified</th>\n",
       "      <th>Age Format</th>\n",
       "      <th>Deaths: Smoketest All Ages</th>\n",
       "    </tr>\n",
       "  </thead>\n",
       "  <tbody>\n",
       "    <tr>\n",
       "      <th>0</th>\n",
       "      <td>2017</td>\n",
       "      <td>4160</td>\n",
       "      <td>Iceland</td>\n",
       "      <td>Northern Europe</td>\n",
       "      <td>1 - Male</td>\n",
       "      <td>A02</td>\n",
       "      <td>Infectious and parasitic diseases</td>\n",
       "      <td>103</td>\n",
       "      <td>1</td>\n",
       "      <td>0.0</td>\n",
       "      <td>0.0</td>\n",
       "      <td>0.0</td>\n",
       "      <td>0.0</td>\n",
       "      <td>1.0</td>\n",
       "      <td>0.0</td>\n",
       "      <td>0</td>\n",
       "      <td>1.0</td>\n",
       "    </tr>\n",
       "    <tr>\n",
       "      <th>1</th>\n",
       "      <td>2017</td>\n",
       "      <td>4160</td>\n",
       "      <td>Iceland</td>\n",
       "      <td>Northern Europe</td>\n",
       "      <td>1 - Male</td>\n",
       "      <td>A04</td>\n",
       "      <td>Infectious and parasitic diseases</td>\n",
       "      <td>103</td>\n",
       "      <td>1</td>\n",
       "      <td>0.0</td>\n",
       "      <td>0.0</td>\n",
       "      <td>0.0</td>\n",
       "      <td>0.0</td>\n",
       "      <td>1.0</td>\n",
       "      <td>0.0</td>\n",
       "      <td>0</td>\n",
       "      <td>1.0</td>\n",
       "    </tr>\n",
       "    <tr>\n",
       "      <th>2</th>\n",
       "      <td>2017</td>\n",
       "      <td>4160</td>\n",
       "      <td>Iceland</td>\n",
       "      <td>Northern Europe</td>\n",
       "      <td>1 - Male</td>\n",
       "      <td>A08</td>\n",
       "      <td>Infectious and parasitic diseases</td>\n",
       "      <td>103</td>\n",
       "      <td>1</td>\n",
       "      <td>0.0</td>\n",
       "      <td>0.0</td>\n",
       "      <td>0.0</td>\n",
       "      <td>0.0</td>\n",
       "      <td>1.0</td>\n",
       "      <td>0.0</td>\n",
       "      <td>0</td>\n",
       "      <td>1.0</td>\n",
       "    </tr>\n",
       "    <tr>\n",
       "      <th>3</th>\n",
       "      <td>2017</td>\n",
       "      <td>4160</td>\n",
       "      <td>Iceland</td>\n",
       "      <td>Northern Europe</td>\n",
       "      <td>1 - Male</td>\n",
       "      <td>A32</td>\n",
       "      <td>Infectious and parasitic diseases</td>\n",
       "      <td>103</td>\n",
       "      <td>1</td>\n",
       "      <td>0.0</td>\n",
       "      <td>0.0</td>\n",
       "      <td>0.0</td>\n",
       "      <td>0.0</td>\n",
       "      <td>0.0</td>\n",
       "      <td>0.0</td>\n",
       "      <td>0</td>\n",
       "      <td>1.0</td>\n",
       "    </tr>\n",
       "    <tr>\n",
       "      <th>4</th>\n",
       "      <td>2017</td>\n",
       "      <td>4160</td>\n",
       "      <td>Iceland</td>\n",
       "      <td>Northern Europe</td>\n",
       "      <td>1 - Male</td>\n",
       "      <td>A41</td>\n",
       "      <td>Infectious and parasitic diseases</td>\n",
       "      <td>103</td>\n",
       "      <td>4</td>\n",
       "      <td>0.0</td>\n",
       "      <td>0.0</td>\n",
       "      <td>0.0</td>\n",
       "      <td>2.0</td>\n",
       "      <td>2.0</td>\n",
       "      <td>0.0</td>\n",
       "      <td>0</td>\n",
       "      <td>4.0</td>\n",
       "    </tr>\n",
       "  </tbody>\n",
       "</table>\n",
       "</div>"
      ],
      "text/plain": [
       "   Year  Country Code Country Name           Region       Sex ICD Code  \\\n",
       "0  2017          4160      Iceland  Northern Europe  1 - Male      A02   \n",
       "1  2017          4160      Iceland  Northern Europe  1 - Male      A04   \n",
       "2  2017          4160      Iceland  Northern Europe  1 - Male      A08   \n",
       "3  2017          4160      Iceland  Northern Europe  1 - Male      A32   \n",
       "4  2017          4160      Iceland  Northern Europe  1 - Male      A41   \n",
       "\n",
       "                        ICD Category  ICD10 Version  Deaths: All Ages  \\\n",
       "0  Infectious and parasitic diseases            103                 1   \n",
       "1  Infectious and parasitic diseases            103                 1   \n",
       "2  Infectious and parasitic diseases            103                 1   \n",
       "3  Infectious and parasitic diseases            103                 1   \n",
       "4  Infectious and parasitic diseases            103                 4   \n",
       "\n",
       "   Deaths: 0-1 Years  Deaths: 1-24 Years  Deaths: 25-44 Years  \\\n",
       "0                0.0                 0.0                  0.0   \n",
       "1                0.0                 0.0                  0.0   \n",
       "2                0.0                 0.0                  0.0   \n",
       "3                0.0                 0.0                  0.0   \n",
       "4                0.0                 0.0                  0.0   \n",
       "\n",
       "   Deaths: 45-69 Years  Deaths: 70-95+ Years  Deaths: Age Not Specified  \\\n",
       "0                  0.0                   1.0                        0.0   \n",
       "1                  0.0                   1.0                        0.0   \n",
       "2                  0.0                   1.0                        0.0   \n",
       "3                  0.0                   0.0                        0.0   \n",
       "4                  2.0                   2.0                        0.0   \n",
       "\n",
       "   Age Format  Deaths: Smoketest All Ages  \n",
       "0           0                         1.0  \n",
       "1           0                         1.0  \n",
       "2           0                         1.0  \n",
       "3           0                         1.0  \n",
       "4           0                         4.0  "
      ]
     },
     "execution_count": 2,
     "metadata": {},
     "output_type": "execute_result"
    }
   ],
   "source": [
    "#Import the data\n",
    "WHO_df = pd.read_csv('../../cleaned_data/WHO.csv')\n",
    "WHO_df.head()"
   ]
  },
  {
   "cell_type": "code",
   "execution_count": 3,
   "metadata": {},
   "outputs": [
    {
     "data": {
      "text/plain": [
       "ICD Code\n",
       "R99     125\n",
       "I64     125\n",
       "J449    124\n",
       "I219    124\n",
       "I509    123\n",
       "C349    123\n",
       "J189    123\n",
       "K746    123\n",
       "I619    123\n",
       "C169    122\n",
       "N390    122\n",
       "I269    122\n",
       "G20     121\n",
       "C229    121\n",
       "G309    121\n",
       "C259    121\n",
       "N189    121\n",
       "C20     121\n",
       "C189    121\n",
       "I259    120\n",
       "Name: count, dtype: int64"
      ]
     },
     "execution_count": 3,
     "metadata": {},
     "output_type": "execute_result"
    }
   ],
   "source": [
    "#Remove AAA to avoid double counting\n",
    "WHO_df = WHO_df[WHO_df[\"ICD Code\"] != \"AAA\"]\n",
    "WHO_df.value_counts(\"ICD Code\").head(20)"
   ]
  },
  {
   "cell_type": "code",
   "execution_count": 4,
   "metadata": {},
   "outputs": [],
   "source": [
    "\n",
    "#Practice graph with too many variables\n",
    "male = WHO_df.loc[(WHO_df[\"Sex\"]==\"1 - Male\") & (WHO_df[\"ICD Category\"]), \"Year\"]\n",
    "female = WHO_df.loc[(WHO_df[\"Sex\"]==\"2 - Female\") & (WHO_df[\"ICD Category\"]), \"Year\"]\n",
    "width = 0.3\n",
    "plt.bar(np.arange(len(male)), male, width=width)\n",
    "plt.bar(np.arange(len(female))+ width, female, width=width )\n",
    "plt.show()\n"
   ]
  },
  {
   "cell_type": "code",
   "execution_count": null,
   "metadata": {},
   "outputs": [
    {
     "data": {
      "image/png": "[encoded data removed]",
      "text/plain": [
       "<Figure size 640x480 with 1 Axes>"
      ]
     },
     "metadata": {},
     "output_type": "display_data"
    }
   ],
   "source": [
    "#practice plotted to many variables\n",
    "male = WHO_df.loc[(WHO_df[\"Sex\"]==\"1 - Male\"), \"Year\"]\n",
    "female = WHO_df.loc[(WHO_df[\"Sex\"]==\"2 - Female\"), \"Year\"]\n",
    "width = 0.3\n",
    "plt.bar(np.arange(len(male)), male, width=width)\n",
    "plt.bar(np.arange(len(female))+ width, female, width=width )\n",
    "plt.show()"
   ]
  },
  {
   "cell_type": "code",
   "execution_count": null,
   "metadata": {},
   "outputs": [
    {
     "data": {
      "text/plain": [
       "Deaths: All Ages\n",
       "3445978    0.1\n",
       "3151265    0.1\n",
       "3469057    0.1\n",
       "3173171    0.1\n",
       "3509727    0.1\n",
       "3206834    0.1\n",
       "4023972    0.1\n",
       "3574911    0.1\n",
       "4310107    0.1\n",
       "3801725    0.1\n",
       "Name: proportion, dtype: float64"
      ]
     },
     "metadata": {},
     "output_type": "display_data"
    },
    {
     "data": {
      "text/plain": [
       "Deaths: All Ages\n",
       "3445978    0.1\n",
       "3151265    0.1\n",
       "3469057    0.1\n",
       "3173171    0.1\n",
       "3509727    0.1\n",
       "3206834    0.1\n",
       "4023972    0.1\n",
       "3574911    0.1\n",
       "4310107    0.1\n",
       "3801725    0.1\n",
       "Name: proportion, dtype: float64"
      ]
     },
     "metadata": {},
     "output_type": "display_data"
    },
    {
     "data": {
      "text/plain": [
       "Year  Sex       \n",
       "2017  1 - Male      3445978\n",
       "      2 - Female    3151265\n",
       "2018  1 - Male      3469057\n",
       "      2 - Female    3173171\n",
       "2019  1 - Male      3509727\n",
       "      2 - Female    3206834\n",
       "2020  1 - Male      4023972\n",
       "      2 - Female    3574911\n",
       "2021  1 - Male      4310107\n",
       "      2 - Female    3801725\n",
       "Name: Deaths: All Ages, dtype: int64"
      ]
     },
     "metadata": {},
     "output_type": "display_data"
    }
   ],
   "source": [
    "#create a dataset that does not have the Unspecified Gender\n",
    "\n",
    "Boolean_Who = WHO_df[(WHO_df[\"Sex\"]==\"1 - Male\") | (WHO_df[\"Sex\"]==\"2 - Female\")]\n",
    "WHO_group = Boolean_Who.groupby([\"Year\", \"Sex\"])[\"Deaths: All Ages\"].sum()\n",
    "\n",
    "#visual verification of data\n",
    "display(WHO_group.value_counts(\"Country Name\"))\n",
    "display(WHO_group.value_counts(\"Sex\"))\n",
    "display(WHO_group)\n",
    "\n"
   ]
  },
  {
   "cell_type": "code",
   "execution_count": null,
   "metadata": {},
   "outputs": [],
   "source": [
    "#Blank for testing data"
   ]
  },
  {
   "cell_type": "code",
   "execution_count": null,
   "metadata": {},
   "outputs": [
    {
     "data": {
      "image/png": "[encoded data removed]",
      "text/plain": [
       "<Figure size 640x480 with 1 Axes>"
      ]
     },
     "metadata": {},
     "output_type": "display_data"
    }
   ],
   "source": [
    "#Practice bargraph Male data only\n",
    "year = WHO_df.loc[(WHO_df[\"Sex\"]==\"1 - Male\"), \"Year\"]\n",
    "male_deaths = WHO_df.loc[(WHO_df[\"Sex\"]==\"1 - Male\"), \"Deaths: All Ages\"]\n",
    "plt.bar(year, male_deaths)\n",
    "\n",
    "plt.show()"
   ]
  },
  {
   "cell_type": "code",
   "execution_count": null,
   "metadata": {},
   "outputs": [
    {
     "data": {
      "image/png": "[encoded data removed]",
      "text/plain": [
       "<Figure size 640x480 with 1 Axes>"
      ]
     },
     "metadata": {},
     "output_type": "display_data"
    }
   ],
   "source": [
    "#create a visual with stacked bar graph\n",
    "year = WHO_df.loc[(WHO_df[\"Sex\"]==\"1 - Male\"), \"Year\"]\n",
    "year2 = WHO_df.loc[(WHO_df[\"Sex\"]==\"2 - Female\"), \"Year\"]\n",
    "\n",
    "male_deaths = WHO_df.loc[(WHO_df[\"Sex\"]==\"1 - Male\"), \"Deaths: All Ages\"]\n",
    "female_deaths = WHO_df.loc[(WHO_df[\"Sex\"]==\"2 - Female\"), \"Deaths: All Ages\"]\n",
    "\n",
    "plt.bar(year, male_deaths, color='cornflowerblue', label = \"Male Deaths\")\n",
    "plt.bar(year2, female_deaths, color='orchid', label =\"Female Deaths\")\n",
    "plt.xlabel(\"Year\")\n",
    "plt.ylabel(\"Deaths\")\n",
    "plt.legend()\n",
    "plt.title(\"Deaths by Gender - All Nations\")\n",
    "plt.ticklabel_format(style=\"plain\")\n",
    "\n",
    "plt.show()"
   ]
  },
  {
   "cell_type": "code",
   "execution_count": null,
   "metadata": {},
   "outputs": [
    {
     "data": {
      "image/png": "[encoded data removed]",
      "text/plain": [
       "<Figure size 640x480 with 1 Axes>"
      ]
     },
     "metadata": {},
     "output_type": "display_data"
    }
   ],
   "source": [
    "#Create visual to compare Male and Female deaths by year side by side\n",
    "\n",
    "WHO_group.unstack().plot(kind=\"bar\", color=[\"cornflowerblue\", \"orchid\"], width=0.7)\n",
    "plt.xticks(rotation=45)\n",
    "plt.xlabel(\"Year\")\n",
    "plt.ylabel(\"Deaths\")\n",
    "plt.title(\"Deaths by Gender - Nations Combined\")\n",
    "plt.ticklabel_format(style=\"plain\", axis=\"y\")\n",
    "\n",
    "plt.show()"
   ]
  },
  {
   "cell_type": "code",
   "execution_count": null,
   "metadata": {},
   "outputs": [
    {
     "data": {
      "text/plain": [
       "0          1\n",
       "1          1\n",
       "2          1\n",
       "3          1\n",
       "4          4\n",
       "          ..\n",
       "215564     3\n",
       "215566    53\n",
       "215569     1\n",
       "215570     1\n",
       "215571     3\n",
       "Name: Deaths: All Ages, Length: 110318, dtype: int64"
      ]
     },
     "execution_count": 11,
     "metadata": {},
     "output_type": "execute_result"
    }
   ],
   "source": [
    "#Data exploration\n",
    "male_deaths"
   ]
  },
  {
   "cell_type": "code",
   "execution_count": null,
   "metadata": {},
   "outputs": [
    {
     "data": {
      "text/plain": [
       "<Axes: xlabel='Year,Sex'>"
      ]
     },
     "execution_count": 12,
     "metadata": {},
     "output_type": "execute_result"
    },
    {
     "data": {
      "image/png": "[encoded data removed]",
      "text/plain": [
       "<Figure size 640x480 with 1 Axes>"
      ]
     },
     "metadata": {},
     "output_type": "display_data"
    }
   ],
   "source": [
    "#Exploartory Graph\n",
    "WHO_group.plot(kind='bar')"
   ]
  },
  {
   "cell_type": "code",
   "execution_count": null,
   "metadata": {},
   "outputs": [
    {
     "data": {
      "text/plain": [
       "Country Name\n",
       "Australia                   10\n",
       "Brazil                      10\n",
       "Canada                      10\n",
       "Chile                       10\n",
       "Iceland                     10\n",
       "Israel                      10\n",
       "Japan                       10\n",
       "Poland                      10\n",
       "Singapore                   10\n",
       "Sweden                      10\n",
       "United States of America    10\n",
       "Tunisia                      6\n",
       "Name: count, dtype: int64"
      ]
     },
     "metadata": {},
     "output_type": "display_data"
    },
    {
     "data": {
      "text/plain": [
       "Sex\n",
       "1 - Male      58\n",
       "2 - Female    58\n",
       "Name: count, dtype: int64"
      ]
     },
     "metadata": {},
     "output_type": "display_data"
    }
   ],
   "source": [
    "#Create a dataset that does not have the Unspecified Gender for graph by country\n",
    "\n",
    "Boolean_Who = WHO_df[(WHO_df[\"Sex\"]==\"1 - Male\") | (WHO_df[\"Sex\"]==\"2 - Female\")]\n",
    "WHO_group = Boolean_Who.groupby([\"Year\", \"Sex\", \"Country Name\"]).sum()\n",
    "WHO_group = WHO_group.reset_index()\n",
    "\n",
    "display(WHO_group.value_counts(\"Country Name\"))\n",
    "display(WHO_group.value_counts(\"Sex\"))\n",
    "\n"
   ]
  },
  {
   "cell_type": "code",
   "execution_count": null,
   "metadata": {},
   "outputs": [
    {
     "data": {
      "text/html": [
       "<div>\n",
       "<style scoped>\n",
       "    .dataframe tbody tr th:only-of-type {\n",
       "        vertical-align: middle;\n",
       "    }\n",
       "\n",
       "    .dataframe tbody tr th {\n",
       "        vertical-align: top;\n",
       "    }\n",
       "\n",
       "    .dataframe thead th {\n",
       "        text-align: right;\n",
       "    }\n",
       "</style>\n",
       "<table border=\"1\" class=\"dataframe\">\n",
       "  <thead>\n",
       "    <tr style=\"text-align: right;\">\n",
       "      <th></th>\n",
       "      <th>Year</th>\n",
       "      <th>Sex</th>\n",
       "      <th>Country Name</th>\n",
       "      <th>Country Code</th>\n",
       "      <th>Region</th>\n",
       "      <th>ICD Code</th>\n",
       "      <th>ICD Category</th>\n",
       "      <th>ICD10 Version</th>\n",
       "      <th>Deaths: All Ages</th>\n",
       "      <th>Deaths: 0-1 Years</th>\n",
       "      <th>Deaths: 1-24 Years</th>\n",
       "      <th>Deaths: 25-44 Years</th>\n",
       "      <th>Deaths: 45-69 Years</th>\n",
       "      <th>Deaths: 70-95+ Years</th>\n",
       "      <th>Deaths: Age Not Specified</th>\n",
       "      <th>Age Format</th>\n",
       "      <th>Deaths: Smoketest All Ages</th>\n",
       "    </tr>\n",
       "  </thead>\n",
       "  <tbody>\n",
       "    <tr>\n",
       "      <th>0</th>\n",
       "      <td>2017</td>\n",
       "      <td>1 - Male</td>\n",
       "      <td>Australia</td>\n",
       "      <td>9056080</td>\n",
       "      <td>OceaniaOceaniaOceaniaOceaniaOceaniaOceaniaOcea...</td>\n",
       "      <td>A045A047A049A080A081A084A090A099A159A162A169A1...</td>\n",
       "      <td>Infectious and parasitic diseasesInfectious an...</td>\n",
       "      <td>187616</td>\n",
       "      <td>82974</td>\n",
       "      <td>562.0</td>\n",
       "      <td>1669.0</td>\n",
       "      <td>4082.0</td>\n",
       "      <td>24011.0</td>\n",
       "      <td>35739.0</td>\n",
       "      <td>3.0</td>\n",
       "      <td>0</td>\n",
       "      <td>82974.0</td>\n",
       "    </tr>\n",
       "    <tr>\n",
       "      <th>1</th>\n",
       "      <td>2017</td>\n",
       "      <td>1 - Male</td>\n",
       "      <td>Brazil</td>\n",
       "      <td>9815940</td>\n",
       "      <td>South AmericaSouth AmericaSouth AmericaSouth A...</td>\n",
       "      <td>A020A021A022A029A031A039A040A042A047A048A049A0...</td>\n",
       "      <td>Infectious and parasitic diseasesInfectious an...</td>\n",
       "      <td>493168</td>\n",
       "      <td>734470</td>\n",
       "      <td>19846.0</td>\n",
       "      <td>71577.0</td>\n",
       "      <td>82113.0</td>\n",
       "      <td>257353.0</td>\n",
       "      <td>150306.0</td>\n",
       "      <td>2354.0</td>\n",
       "      <td>0</td>\n",
       "      <td>734470.0</td>\n",
       "    </tr>\n",
       "    <tr>\n",
       "      <th>2</th>\n",
       "      <td>2017</td>\n",
       "      <td>1 - Male</td>\n",
       "      <td>Canada</td>\n",
       "      <td>4267780</td>\n",
       "      <td>North AmericaNorth AmericaNorth AmericaNorth A...</td>\n",
       "      <td>A020A021A022A044A047A048A049A059A080A081A084A0...</td>\n",
       "      <td>Infectious and parasitic diseasesInfectious an...</td>\n",
       "      <td>212368</td>\n",
       "      <td>141099</td>\n",
       "      <td>935.0</td>\n",
       "      <td>3071.0</td>\n",
       "      <td>6115.0</td>\n",
       "      <td>46862.0</td>\n",
       "      <td>60847.0</td>\n",
       "      <td>0.0</td>\n",
       "      <td>4084</td>\n",
       "      <td>141099.0</td>\n",
       "    </tr>\n",
       "    <tr>\n",
       "      <th>3</th>\n",
       "      <td>2017</td>\n",
       "      <td>1 - Male</td>\n",
       "      <td>Chile</td>\n",
       "      <td>3313560</td>\n",
       "      <td>South AmericaSouth AmericaSouth AmericaSouth A...</td>\n",
       "      <td>A047A090A099A162A165A169A170A178A180A181A182A1...</td>\n",
       "      <td>Infectious and parasitic diseasesInfectious an...</td>\n",
       "      <td>162552</td>\n",
       "      <td>55773</td>\n",
       "      <td>830.0</td>\n",
       "      <td>2123.0</td>\n",
       "      <td>3988.0</td>\n",
       "      <td>19922.0</td>\n",
       "      <td>17047.0</td>\n",
       "      <td>1.0</td>\n",
       "      <td>0</td>\n",
       "      <td>55773.0</td>\n",
       "    </tr>\n",
       "    <tr>\n",
       "      <th>4</th>\n",
       "      <td>2017</td>\n",
       "      <td>1 - Male</td>\n",
       "      <td>Iceland</td>\n",
       "      <td>744640</td>\n",
       "      <td>Northern EuropeNorthern EuropeNorthern EuropeN...</td>\n",
       "      <td>A02A04A08A32A41B34B44C02C04C06C13C15C16C17C18C...</td>\n",
       "      <td>Infectious and parasitic diseasesInfectious an...</td>\n",
       "      <td>18437</td>\n",
       "      <td>1124</td>\n",
       "      <td>5.0</td>\n",
       "      <td>24.0</td>\n",
       "      <td>47.0</td>\n",
       "      <td>320.0</td>\n",
       "      <td>507.0</td>\n",
       "      <td>0.0</td>\n",
       "      <td>0</td>\n",
       "      <td>1124.0</td>\n",
       "    </tr>\n",
       "    <tr>\n",
       "      <th>5</th>\n",
       "      <td>2017</td>\n",
       "      <td>1 - Male</td>\n",
       "      <td>Israel</td>\n",
       "      <td>3591000</td>\n",
       "      <td>Middle EastMiddle EastMiddle EastMiddle EastMi...</td>\n",
       "      <td>A047A048A049A090A099A162A169A390A394A410A413A4...</td>\n",
       "      <td>Infectious and parasitic diseasesInfectious an...</td>\n",
       "      <td>118560</td>\n",
       "      <td>22648</td>\n",
       "      <td>308.0</td>\n",
       "      <td>569.0</td>\n",
       "      <td>932.0</td>\n",
       "      <td>6752.0</td>\n",
       "      <td>10539.0</td>\n",
       "      <td>5.0</td>\n",
       "      <td>1140</td>\n",
       "      <td>22648.0</td>\n",
       "    </tr>\n",
       "    <tr>\n",
       "      <th>6</th>\n",
       "      <td>2017</td>\n",
       "      <td>1 - Male</td>\n",
       "      <td>Japan</td>\n",
       "      <td>7410200</td>\n",
       "      <td>AsiaAsiaAsiaAsiaAsiaAsiaAsiaAsiaAsiaAsiaAsiaAs...</td>\n",
       "      <td>A020A021A040A043A044A045A047A048A049A051A060A0...</td>\n",
       "      <td>Infectious and parasitic diseasesInfectious an...</td>\n",
       "      <td>243880</td>\n",
       "      <td>690683</td>\n",
       "      <td>929.0</td>\n",
       "      <td>4677.0</td>\n",
       "      <td>17519.0</td>\n",
       "      <td>188126.0</td>\n",
       "      <td>338034.0</td>\n",
       "      <td>375.0</td>\n",
       "      <td>0</td>\n",
       "      <td>690683.0</td>\n",
       "    </tr>\n",
       "    <tr>\n",
       "      <th>7</th>\n",
       "      <td>2017</td>\n",
       "      <td>1 - Male</td>\n",
       "      <td>Poland</td>\n",
       "      <td>9517500</td>\n",
       "      <td>EuropeEuropeEuropeEuropeEuropeEuropeEuropeEuro...</td>\n",
       "      <td>A020A021A029A041A047A048A051A082A084A090A099A1...</td>\n",
       "      <td>Infectious and parasitic diseasesInfectious an...</td>\n",
       "      <td>234000</td>\n",
       "      <td>207671</td>\n",
       "      <td>908.0</td>\n",
       "      <td>3283.0</td>\n",
       "      <td>13321.0</td>\n",
       "      <td>92520.0</td>\n",
       "      <td>59538.0</td>\n",
       "      <td>0.0</td>\n",
       "      <td>0</td>\n",
       "      <td>207671.0</td>\n",
       "    </tr>\n",
       "    <tr>\n",
       "      <th>8</th>\n",
       "      <td>2017</td>\n",
       "      <td>1 - Male</td>\n",
       "      <td>Singapore</td>\n",
       "      <td>1886050</td>\n",
       "      <td>AsiaAsiaAsiaAsiaAsiaAsiaAsiaAsiaAsiaAsiaAsiaAs...</td>\n",
       "      <td>A021A029A099A150A162A170A178A183A199A279A400A4...</td>\n",
       "      <td>Infectious and parasitic diseasesInfectious an...</td>\n",
       "      <td>58552</td>\n",
       "      <td>10674</td>\n",
       "      <td>37.0</td>\n",
       "      <td>155.0</td>\n",
       "      <td>519.0</td>\n",
       "      <td>4375.0</td>\n",
       "      <td>3522.0</td>\n",
       "      <td>0.0</td>\n",
       "      <td>563</td>\n",
       "      <td>10674.0</td>\n",
       "    </tr>\n",
       "    <tr>\n",
       "      <th>9</th>\n",
       "      <td>2017</td>\n",
       "      <td>1 - Male</td>\n",
       "      <td>Sweden</td>\n",
       "      <td>5757180</td>\n",
       "      <td>EuropeEuropeEuropeEuropeEuropeEuropeEuropeEuro...</td>\n",
       "      <td>A021A028A047A049A080A081A084A090A099A157A162A1...</td>\n",
       "      <td>Infectious and parasitic diseasesInfectious an...</td>\n",
       "      <td>139568</td>\n",
       "      <td>44933</td>\n",
       "      <td>147.0</td>\n",
       "      <td>670.0</td>\n",
       "      <td>1204.0</td>\n",
       "      <td>12418.0</td>\n",
       "      <td>21096.0</td>\n",
       "      <td>0.0</td>\n",
       "      <td>0</td>\n",
       "      <td>44933.0</td>\n",
       "    </tr>\n",
       "    <tr>\n",
       "      <th>10</th>\n",
       "      <td>2017</td>\n",
       "      <td>1 - Male</td>\n",
       "      <td>Tunisia</td>\n",
       "      <td>1316320</td>\n",
       "      <td>AfricaAfricaAfricaAfricaAfricaAfricaAfricaAfri...</td>\n",
       "      <td>A049A061A090A099A152A162A165A169A178A180A188A1...</td>\n",
       "      <td>Infectious and parasitic diseasesInfectious an...</td>\n",
       "      <td>90064</td>\n",
       "      <td>14818</td>\n",
       "      <td>827.0</td>\n",
       "      <td>491.0</td>\n",
       "      <td>751.0</td>\n",
       "      <td>4037.0</td>\n",
       "      <td>4009.0</td>\n",
       "      <td>2630.0</td>\n",
       "      <td>1732</td>\n",
       "      <td>14818.0</td>\n",
       "    </tr>\n",
       "    <tr>\n",
       "      <th>11</th>\n",
       "      <td>2017</td>\n",
       "      <td>1 - Male</td>\n",
       "      <td>United States of America</td>\n",
       "      <td>7866950</td>\n",
       "      <td>North AmericaNorth AmericaNorth AmericaNorth A...</td>\n",
       "      <td>A020A021A022A029A030A044A045A046A047A048A049A0...</td>\n",
       "      <td>Infectious and parasitic diseasesInfectious an...</td>\n",
       "      <td>333944</td>\n",
       "      <td>1439111</td>\n",
       "      <td>12468.0</td>\n",
       "      <td>49389.0</td>\n",
       "      <td>91015.0</td>\n",
       "      <td>529266.0</td>\n",
       "      <td>462390.0</td>\n",
       "      <td>91.0</td>\n",
       "      <td>0</td>\n",
       "      <td>1439111.0</td>\n",
       "    </tr>\n",
       "    <tr>\n",
       "      <th>12</th>\n",
       "      <td>2017</td>\n",
       "      <td>2 - Female</td>\n",
       "      <td>Australia</td>\n",
       "      <td>8283000</td>\n",
       "      <td>OceaniaOceaniaOceaniaOceaniaOceaniaOceaniaOcea...</td>\n",
       "      <td>A020A021A028A043A044A045A047A080A081A084A090A0...</td>\n",
       "      <td>Infectious and parasitic diseasesInfectious an...</td>\n",
       "      <td>171600</td>\n",
       "      <td>78109</td>\n",
       "      <td>457.0</td>\n",
       "      <td>769.0</td>\n",
       "      <td>2334.0</td>\n",
       "      <td>15229.0</td>\n",
       "      <td>41164.0</td>\n",
       "      <td>2.0</td>\n",
       "      <td>0</td>\n",
       "      <td>78109.0</td>\n",
       "    </tr>\n",
       "    <tr>\n",
       "      <th>13</th>\n",
       "      <td>2017</td>\n",
       "      <td>2 - Female</td>\n",
       "      <td>Brazil</td>\n",
       "      <td>8834760</td>\n",
       "      <td>South AmericaSouth AmericaSouth AmericaSouth A...</td>\n",
       "      <td>A020A021A022A039A040A041A042A043A044A046A047A0...</td>\n",
       "      <td>Infectious and parasitic diseasesInfectious an...</td>\n",
       "      <td>443872</td>\n",
       "      <td>577573</td>\n",
       "      <td>16161.0</td>\n",
       "      <td>19466.0</td>\n",
       "      <td>41481.0</td>\n",
       "      <td>179202.0</td>\n",
       "      <td>194320.0</td>\n",
       "      <td>292.0</td>\n",
       "      <td>0</td>\n",
       "      <td>577573.0</td>\n",
       "    </tr>\n",
       "    <tr>\n",
       "      <th>14</th>\n",
       "      <td>2017</td>\n",
       "      <td>2 - Female</td>\n",
       "      <td>Canada</td>\n",
       "      <td>4096400</td>\n",
       "      <td>North AmericaNorth AmericaNorth AmericaNorth A...</td>\n",
       "      <td>A020A021A047A048A051A081A084A090A099A162A169A1...</td>\n",
       "      <td>Infectious and parasitic diseasesInfectious an...</td>\n",
       "      <td>203840</td>\n",
       "      <td>135590</td>\n",
       "      <td>764.0</td>\n",
       "      <td>1428.0</td>\n",
       "      <td>3594.0</td>\n",
       "      <td>32245.0</td>\n",
       "      <td>80327.0</td>\n",
       "      <td>0.0</td>\n",
       "      <td>3920</td>\n",
       "      <td>135590.0</td>\n",
       "    </tr>\n",
       "    <tr>\n",
       "      <th>15</th>\n",
       "      <td>2017</td>\n",
       "      <td>2 - Female</td>\n",
       "      <td>Chile</td>\n",
       "      <td>2936200</td>\n",
       "      <td>South AmericaSouth AmericaSouth AmericaSouth A...</td>\n",
       "      <td>A047A048A090A099A162A165A169A170A178A180A181A1...</td>\n",
       "      <td>Infectious and parasitic diseasesInfectious an...</td>\n",
       "      <td>144040</td>\n",
       "      <td>50593</td>\n",
       "      <td>705.0</td>\n",
       "      <td>888.0</td>\n",
       "      <td>2046.0</td>\n",
       "      <td>13236.0</td>\n",
       "      <td>22399.0</td>\n",
       "      <td>0.0</td>\n",
       "      <td>0</td>\n",
       "      <td>50593.0</td>\n",
       "    </tr>\n",
       "    <tr>\n",
       "      <th>16</th>\n",
       "      <td>2017</td>\n",
       "      <td>2 - Female</td>\n",
       "      <td>Iceland</td>\n",
       "      <td>782080</td>\n",
       "      <td>Northern EuropeNorthern EuropeNorthern EuropeN...</td>\n",
       "      <td>A02A08A40A41A49B33B34C02C06C08C15C16C17C18C20C...</td>\n",
       "      <td>Infectious and parasitic diseasesInfectious an...</td>\n",
       "      <td>19364</td>\n",
       "      <td>1112</td>\n",
       "      <td>5.0</td>\n",
       "      <td>11.0</td>\n",
       "      <td>17.0</td>\n",
       "      <td>203.0</td>\n",
       "      <td>626.0</td>\n",
       "      <td>0.0</td>\n",
       "      <td>0</td>\n",
       "      <td>1112.0</td>\n",
       "    </tr>\n",
       "    <tr>\n",
       "      <th>17</th>\n",
       "      <td>2017</td>\n",
       "      <td>2 - Female</td>\n",
       "      <td>Israel</td>\n",
       "      <td>3480750</td>\n",
       "      <td>Middle EastMiddle EastMiddle EastMiddle EastMi...</td>\n",
       "      <td>A020A021A042A047A049A090A099A162A168A169A190A3...</td>\n",
       "      <td>Infectious and parasitic diseasesInfectious an...</td>\n",
       "      <td>114920</td>\n",
       "      <td>21948</td>\n",
       "      <td>255.0</td>\n",
       "      <td>289.0</td>\n",
       "      <td>567.0</td>\n",
       "      <td>4502.0</td>\n",
       "      <td>13612.0</td>\n",
       "      <td>3.0</td>\n",
       "      <td>1105</td>\n",
       "      <td>21948.0</td>\n",
       "    </tr>\n",
       "    <tr>\n",
       "      <th>18</th>\n",
       "      <td>2017</td>\n",
       "      <td>2 - Female</td>\n",
       "      <td>Japan</td>\n",
       "      <td>7151080</td>\n",
       "      <td>AsiaAsiaAsiaAsiaAsiaAsiaAsiaAsiaAsiaAsiaAsiaAs...</td>\n",
       "      <td>A029A043A045A047A048A049A080A081A084A090A099A1...</td>\n",
       "      <td>Infectious and parasitic diseasesInfectious an...</td>\n",
       "      <td>235352</td>\n",
       "      <td>649714</td>\n",
       "      <td>832.0</td>\n",
       "      <td>2265.0</td>\n",
       "      <td>10066.0</td>\n",
       "      <td>85879.0</td>\n",
       "      <td>381590.0</td>\n",
       "      <td>94.0</td>\n",
       "      <td>0</td>\n",
       "      <td>649714.0</td>\n",
       "    </tr>\n",
       "    <tr>\n",
       "      <th>19</th>\n",
       "      <td>2017</td>\n",
       "      <td>2 - Female</td>\n",
       "      <td>Poland</td>\n",
       "      <td>8375400</td>\n",
       "      <td>EuropeEuropeEuropeEuropeEuropeEuropeEuropeEuro...</td>\n",
       "      <td>A020A021A022A041A042A043A044A047A048A049A051A0...</td>\n",
       "      <td>Infectious and parasitic diseasesInfectious an...</td>\n",
       "      <td>205920</td>\n",
       "      <td>195181</td>\n",
       "      <td>696.0</td>\n",
       "      <td>1093.0</td>\n",
       "      <td>4666.0</td>\n",
       "      <td>50266.0</td>\n",
       "      <td>103754.0</td>\n",
       "      <td>0.0</td>\n",
       "      <td>0</td>\n",
       "      <td>195181.0</td>\n",
       "    </tr>\n",
       "  </tbody>\n",
       "</table>\n",
       "</div>"
      ],
      "text/plain": [
       "    Year         Sex              Country Name  Country Code  \\\n",
       "0   2017    1 - Male                 Australia       9056080   \n",
       "1   2017    1 - Male                    Brazil       9815940   \n",
       "2   2017    1 - Male                    Canada       4267780   \n",
       "3   2017    1 - Male                     Chile       3313560   \n",
       "4   2017    1 - Male                   Iceland        744640   \n",
       "5   2017    1 - Male                    Israel       3591000   \n",
       "6   2017    1 - Male                     Japan       7410200   \n",
       "7   2017    1 - Male                    Poland       9517500   \n",
       "8   2017    1 - Male                 Singapore       1886050   \n",
       "9   2017    1 - Male                    Sweden       5757180   \n",
       "10  2017    1 - Male                   Tunisia       1316320   \n",
       "11  2017    1 - Male  United States of America       7866950   \n",
       "12  2017  2 - Female                 Australia       8283000   \n",
       "13  2017  2 - Female                    Brazil       8834760   \n",
       "14  2017  2 - Female                    Canada       4096400   \n",
       "15  2017  2 - Female                     Chile       2936200   \n",
       "16  2017  2 - Female                   Iceland        782080   \n",
       "17  2017  2 - Female                    Israel       3480750   \n",
       "18  2017  2 - Female                     Japan       7151080   \n",
       "19  2017  2 - Female                    Poland       8375400   \n",
       "\n",
       "                                               Region  \\\n",
       "0   OceaniaOceaniaOceaniaOceaniaOceaniaOceaniaOcea...   \n",
       "1   South AmericaSouth AmericaSouth AmericaSouth A...   \n",
       "2   North AmericaNorth AmericaNorth AmericaNorth A...   \n",
       "3   South AmericaSouth AmericaSouth AmericaSouth A...   \n",
       "4   Northern EuropeNorthern EuropeNorthern EuropeN...   \n",
       "5   Middle EastMiddle EastMiddle EastMiddle EastMi...   \n",
       "6   AsiaAsiaAsiaAsiaAsiaAsiaAsiaAsiaAsiaAsiaAsiaAs...   \n",
       "7   EuropeEuropeEuropeEuropeEuropeEuropeEuropeEuro...   \n",
       "8   AsiaAsiaAsiaAsiaAsiaAsiaAsiaAsiaAsiaAsiaAsiaAs...   \n",
       "9   EuropeEuropeEuropeEuropeEuropeEuropeEuropeEuro...   \n",
       "10  AfricaAfricaAfricaAfricaAfricaAfricaAfricaAfri...   \n",
       "11  North AmericaNorth AmericaNorth AmericaNorth A...   \n",
       "12  OceaniaOceaniaOceaniaOceaniaOceaniaOceaniaOcea...   \n",
       "13  South AmericaSouth AmericaSouth AmericaSouth A...   \n",
       "14  North AmericaNorth AmericaNorth AmericaNorth A...   \n",
       "15  South AmericaSouth AmericaSouth AmericaSouth A...   \n",
       "16  Northern EuropeNorthern EuropeNorthern EuropeN...   \n",
       "17  Middle EastMiddle EastMiddle EastMiddle EastMi...   \n",
       "18  AsiaAsiaAsiaAsiaAsiaAsiaAsiaAsiaAsiaAsiaAsiaAs...   \n",
       "19  EuropeEuropeEuropeEuropeEuropeEuropeEuropeEuro...   \n",
       "\n",
       "                                             ICD Code  \\\n",
       "0   A045A047A049A080A081A084A090A099A159A162A169A1...   \n",
       "1   A020A021A022A029A031A039A040A042A047A048A049A0...   \n",
       "2   A020A021A022A044A047A048A049A059A080A081A084A0...   \n",
       "3   A047A090A099A162A165A169A170A178A180A181A182A1...   \n",
       "4   A02A04A08A32A41B34B44C02C04C06C13C15C16C17C18C...   \n",
       "5   A047A048A049A090A099A162A169A390A394A410A413A4...   \n",
       "6   A020A021A040A043A044A045A047A048A049A051A060A0...   \n",
       "7   A020A021A029A041A047A048A051A082A084A090A099A1...   \n",
       "8   A021A029A099A150A162A170A178A183A199A279A400A4...   \n",
       "9   A021A028A047A049A080A081A084A090A099A157A162A1...   \n",
       "10  A049A061A090A099A152A162A165A169A178A180A188A1...   \n",
       "11  A020A021A022A029A030A044A045A046A047A048A049A0...   \n",
       "12  A020A021A028A043A044A045A047A080A081A084A090A0...   \n",
       "13  A020A021A022A039A040A041A042A043A044A046A047A0...   \n",
       "14  A020A021A047A048A051A081A084A090A099A162A169A1...   \n",
       "15  A047A048A090A099A162A165A169A170A178A180A181A1...   \n",
       "16  A02A08A40A41A49B33B34C02C06C08C15C16C17C18C20C...   \n",
       "17  A020A021A042A047A049A090A099A162A168A169A190A3...   \n",
       "18  A029A043A045A047A048A049A080A081A084A090A099A1...   \n",
       "19  A020A021A022A041A042A043A044A047A048A049A051A0...   \n",
       "\n",
       "                                         ICD Category  ICD10 Version  \\\n",
       "0   Infectious and parasitic diseasesInfectious an...         187616   \n",
       "1   Infectious and parasitic diseasesInfectious an...         493168   \n",
       "2   Infectious and parasitic diseasesInfectious an...         212368   \n",
       "3   Infectious and parasitic diseasesInfectious an...         162552   \n",
       "4   Infectious and parasitic diseasesInfectious an...          18437   \n",
       "5   Infectious and parasitic diseasesInfectious an...         118560   \n",
       "6   Infectious and parasitic diseasesInfectious an...         243880   \n",
       "7   Infectious and parasitic diseasesInfectious an...         234000   \n",
       "8   Infectious and parasitic diseasesInfectious an...          58552   \n",
       "9   Infectious and parasitic diseasesInfectious an...         139568   \n",
       "10  Infectious and parasitic diseasesInfectious an...          90064   \n",
       "11  Infectious and parasitic diseasesInfectious an...         333944   \n",
       "12  Infectious and parasitic diseasesInfectious an...         171600   \n",
       "13  Infectious and parasitic diseasesInfectious an...         443872   \n",
       "14  Infectious and parasitic diseasesInfectious an...         203840   \n",
       "15  Infectious and parasitic diseasesInfectious an...         144040   \n",
       "16  Infectious and parasitic diseasesInfectious an...          19364   \n",
       "17  Infectious and parasitic diseasesInfectious an...         114920   \n",
       "18  Infectious and parasitic diseasesInfectious an...         235352   \n",
       "19  Infectious and parasitic diseasesInfectious an...         205920   \n",
       "\n",
       "    Deaths: All Ages  Deaths: 0-1 Years  Deaths: 1-24 Years  \\\n",
       "0              82974              562.0              1669.0   \n",
       "1             734470            19846.0             71577.0   \n",
       "2             141099              935.0              3071.0   \n",
       "3              55773              830.0              2123.0   \n",
       "4               1124                5.0                24.0   \n",
       "5              22648              308.0               569.0   \n",
       "6             690683              929.0              4677.0   \n",
       "7             207671              908.0              3283.0   \n",
       "8              10674               37.0               155.0   \n",
       "9              44933              147.0               670.0   \n",
       "10             14818              827.0               491.0   \n",
       "11           1439111            12468.0             49389.0   \n",
       "12             78109              457.0               769.0   \n",
       "13            577573            16161.0             19466.0   \n",
       "14            135590              764.0              1428.0   \n",
       "15             50593              705.0               888.0   \n",
       "16              1112                5.0                11.0   \n",
       "17             21948              255.0               289.0   \n",
       "18            649714              832.0              2265.0   \n",
       "19            195181              696.0              1093.0   \n",
       "\n",
       "    Deaths: 25-44 Years  Deaths: 45-69 Years  Deaths: 70-95+ Years  \\\n",
       "0                4082.0              24011.0               35739.0   \n",
       "1               82113.0             257353.0              150306.0   \n",
       "2                6115.0              46862.0               60847.0   \n",
       "3                3988.0              19922.0               17047.0   \n",
       "4                  47.0                320.0                 507.0   \n",
       "5                 932.0               6752.0               10539.0   \n",
       "6               17519.0             188126.0              338034.0   \n",
       "7               13321.0              92520.0               59538.0   \n",
       "8                 519.0               4375.0                3522.0   \n",
       "9                1204.0              12418.0               21096.0   \n",
       "10                751.0               4037.0                4009.0   \n",
       "11              91015.0             529266.0              462390.0   \n",
       "12               2334.0              15229.0               41164.0   \n",
       "13              41481.0             179202.0              194320.0   \n",
       "14               3594.0              32245.0               80327.0   \n",
       "15               2046.0              13236.0               22399.0   \n",
       "16                 17.0                203.0                 626.0   \n",
       "17                567.0               4502.0               13612.0   \n",
       "18              10066.0              85879.0              381590.0   \n",
       "19               4666.0              50266.0              103754.0   \n",
       "\n",
       "    Deaths: Age Not Specified  Age Format  Deaths: Smoketest All Ages  \n",
       "0                         3.0           0                     82974.0  \n",
       "1                      2354.0           0                    734470.0  \n",
       "2                         0.0        4084                    141099.0  \n",
       "3                         1.0           0                     55773.0  \n",
       "4                         0.0           0                      1124.0  \n",
       "5                         5.0        1140                     22648.0  \n",
       "6                       375.0           0                    690683.0  \n",
       "7                         0.0           0                    207671.0  \n",
       "8                         0.0         563                     10674.0  \n",
       "9                         0.0           0                     44933.0  \n",
       "10                     2630.0        1732                     14818.0  \n",
       "11                       91.0           0                   1439111.0  \n",
       "12                        2.0           0                     78109.0  \n",
       "13                      292.0           0                    577573.0  \n",
       "14                        0.0        3920                    135590.0  \n",
       "15                        0.0           0                     50593.0  \n",
       "16                        0.0           0                      1112.0  \n",
       "17                        3.0        1105                     21948.0  \n",
       "18                       94.0           0                    649714.0  \n",
       "19                        0.0           0                    195181.0  "
      ]
     },
     "execution_count": 14,
     "metadata": {},
     "output_type": "execute_result"
    }
   ],
   "source": [
    "#Check the Data\n",
    "WHO_group.head(20)"
   ]
  },
  {
   "cell_type": "code",
   "execution_count": null,
   "metadata": {},
   "outputs": [],
   "source": [
    "#clear out unused cloumns\n",
    "WHO_group.drop(columns=[\"Deaths: 0-1 Years\",\"Deaths: 1-24 Years\",\"Deaths: 25-44 Years\"], inplace= True)\n",
    "WHO_group.drop(columns=[\"Deaths: 45-69 Years\",\"Deaths: 70-95+ Years\",\"Deaths: Age Not Specified\",\"Age Format\",\"Deaths: Smoketest All Ages\"], inplace=True)\n",
    "WHO_group.drop(columns=[\"Country Code\", 'Region', \"ICD Code\", \"ICD Category\", \"ICD10 Version\"], inplace=True)"
   ]
  },
  {
   "cell_type": "code",
   "execution_count": null,
   "metadata": {},
   "outputs": [],
   "source": [
    "#group the data to plot\n",
    "WHO_Country = WHO_group.groupby([\"Sex\", \"Country Name\",\"Deaths: All Ages\"]).sum()\n",
    "WHO_Country.reset_index(inplace=True)\n",
    "\n",
    "y_death = WHO_Country[\"Country Name\"]\n",
    "x_M = WHO_Country.loc[WHO_Country[\"Sex\"] == \"1 - Male\", \"Deaths: All Ages\"]\n",
    "x_F = WHO_Country.loc[WHO_Country[\"Sex\"] == \"2 - Female\", \"Deaths: All Ages\"] * -1\n",
    "\n"
   ]
  },
  {
   "cell_type": "code",
   "execution_count": null,
   "metadata": {},
   "outputs": [
    {
     "data": {
      "application/vnd.plotly.v1+json": {
       "config": {
        "plotlyServerURL": "https://plot.ly"
       },
       "data": [
        {
         "marker": {
          "color": "cornflowerblue"
         },
         "name": "Male",
         "orientation": "h",
         "type": "bar",
         "x": [
          82441,
          82974,
          84588,
          88111,
          89401,
          733616,
          734470,
          745519,
          874167,
          1015350,
          141099,
          145771,
          146342,
          159722,
          163726,
          55773,
          56093,
          57632,
          67636,
          73435,
          1124,
          1139,
          1157,
          1167,
          1178,
          22423,
          22648,
          23008,
          24920,
          25775,
          690683,
          699138,
          706834,
          707421,
          738141,
          207671,
          211423,
          213647,
          249744,
          268658,
          10674,
          10864,
          10973,
          11631,
          12695,
          44318,
          44933,
          45456,
          46556,
          49712,
          14818,
          23967,
          37084,
          1439111,
          1458469,
          1473823,
          1769884,
          1838108
         ],
         "y": [
          "Australia",
          "Australia",
          "Australia",
          "Australia",
          "Australia",
          "Brazil",
          "Brazil",
          "Brazil",
          "Brazil",
          "Brazil",
          "Canada",
          "Canada",
          "Canada",
          "Canada",
          "Canada",
          "Chile",
          "Chile",
          "Chile",
          "Chile",
          "Chile",
          "Iceland",
          "Iceland",
          "Iceland",
          "Iceland",
          "Iceland",
          "Israel",
          "Israel",
          "Israel",
          "Israel",
          "Israel",
          "Japan",
          "Japan",
          "Japan",
          "Japan",
          "Japan",
          "Poland",
          "Poland",
          "Poland",
          "Poland",
          "Poland",
          "Singapore",
          "Singapore",
          "Singapore",
          "Singapore",
          "Singapore",
          "Sweden",
          "Sweden",
          "Sweden",
          "Sweden",
          "Sweden",
          "Tunisia",
          "Tunisia",
          "Tunisia",
          "United States of America",
          "United States of America",
          "United States of America",
          "United States of America",
          "United States of America",
          "Australia",
          "Australia",
          "Australia",
          "Australia",
          "Australia",
          "Brazil",
          "Brazil",
          "Brazil",
          "Brazil",
          "Brazil",
          "Canada",
          "Canada",
          "Canada",
          "Canada",
          "Canada",
          "Chile",
          "Chile",
          "Chile",
          "Chile",
          "Chile",
          "Iceland",
          "Iceland",
          "Iceland",
          "Iceland",
          "Iceland",
          "Israel",
          "Israel",
          "Israel",
          "Israel",
          "Israel",
          "Japan",
          "Japan",
          "Japan",
          "Japan",
          "Japan",
          "Poland",
          "Poland",
          "Poland",
          "Poland",
          "Poland",
          "Singapore",
          "Singapore",
          "Singapore",
          "Singapore",
          "Singapore",
          "Sweden",
          "Sweden",
          "Sweden",
          "Sweden",
          "Sweden",
          "Tunisia",
          "Tunisia",
          "Tunisia",
          "United States of America",
          "United States of America",
          "United States of America",
          "United States of America",
          "United States of America"
         ]
        },
        {
         "marker": {
          "color": "orchid"
         },
         "name": "Female",
         "orientation": "h",
         "type": "bar",
         "x": [
          -76219,
          -76712,
          -78109,
          -80851,
          -82068,
          -577573,
          -582457,
          -603725,
          -682027,
          -816616,
          -135590,
          -138959,
          -139933,
          -147914,
          -148690,
          -50593,
          -50684,
          -52010,
          -58519,
          -64182,
          -1112,
          -1119,
          -1120,
          -1138,
          -1155,
          -21948,
          -22114,
          -22996,
          -23877,
          -24997,
          -649714,
          -663332,
          -665921,
          -673672,
          -701715,
          -195181,
          -198286,
          -200553,
          -227611,
          -250859,
          -9089,
          -9230,
          -9315,
          -9353,
          -10575,
          -44885,
          -45523,
          -46794,
          -47142,
          -48882,
          -10822,
          -18336,
          -29998,
          -1374392,
          -1380736,
          -1381015,
          -1613845,
          -1626123
         ],
         "y": [
          "Australia",
          "Australia",
          "Australia",
          "Australia",
          "Australia",
          "Brazil",
          "Brazil",
          "Brazil",
          "Brazil",
          "Brazil",
          "Canada",
          "Canada",
          "Canada",
          "Canada",
          "Canada",
          "Chile",
          "Chile",
          "Chile",
          "Chile",
          "Chile",
          "Iceland",
          "Iceland",
          "Iceland",
          "Iceland",
          "Iceland",
          "Israel",
          "Israel",
          "Israel",
          "Israel",
          "Israel",
          "Japan",
          "Japan",
          "Japan",
          "Japan",
          "Japan",
          "Poland",
          "Poland",
          "Poland",
          "Poland",
          "Poland",
          "Singapore",
          "Singapore",
          "Singapore",
          "Singapore",
          "Singapore",
          "Sweden",
          "Sweden",
          "Sweden",
          "Sweden",
          "Sweden",
          "Tunisia",
          "Tunisia",
          "Tunisia",
          "United States of America",
          "United States of America",
          "United States of America",
          "United States of America",
          "United States of America",
          "Australia",
          "Australia",
          "Australia",
          "Australia",
          "Australia",
          "Brazil",
          "Brazil",
          "Brazil",
          "Brazil",
          "Brazil",
          "Canada",
          "Canada",
          "Canada",
          "Canada",
          "Canada",
          "Chile",
          "Chile",
          "Chile",
          "Chile",
          "Chile",
          "Iceland",
          "Iceland",
          "Iceland",
          "Iceland",
          "Iceland",
          "Israel",
          "Israel",
          "Israel",
          "Israel",
          "Israel",
          "Japan",
          "Japan",
          "Japan",
          "Japan",
          "Japan",
          "Poland",
          "Poland",
          "Poland",
          "Poland",
          "Poland",
          "Singapore",
          "Singapore",
          "Singapore",
          "Singapore",
          "Singapore",
          "Sweden",
          "Sweden",
          "Sweden",
          "Sweden",
          "Sweden",
          "Tunisia",
          "Tunisia",
          "Tunisia",
          "United States of America",
          "United States of America",
          "United States of America",
          "United States of America",
          "United States of America"
         ]
        }
       ],
       "layout": {
        "bargap": 0,
        "bargroupgap": 0,
        "barmode": "relative",
        "template": {
         "data": {
          "bar": [
           {
            "error_x": {
             "color": "#2a3f5f"
            },
            "error_y": {
             "color": "#2a3f5f"
            },
            "marker": {
             "line": {
              "color": "#E5ECF6",
              "width": 0.5
             },
             "pattern": {
              "fillmode": "overlay",
              "size": 10,
              "solidity": 0.2
             }
            },
            "type": "bar"
           }
          ],
          "barpolar": [
           {
            "marker": {
             "line": {
              "color": "#E5ECF6",
              "width": 0.5
             },
             "pattern": {
              "fillmode": "overlay",
              "size": 10,
              "solidity": 0.2
             }
            },
            "type": "barpolar"
           }
          ],
          "carpet": [
           {
            "aaxis": {
             "endlinecolor": "#2a3f5f",
             "gridcolor": "white",
             "linecolor": "white",
             "minorgridcolor": "white",
             "startlinecolor": "#2a3f5f"
            },
            "baxis": {
             "endlinecolor": "#2a3f5f",
             "gridcolor": "white",
             "linecolor": "white",
             "minorgridcolor": "white",
             "startlinecolor": "#2a3f5f"
            },
            "type": "carpet"
           }
          ],
          "choropleth": [
           {
            "colorbar": {
             "outlinewidth": 0,
             "ticks": ""
            },
            "type": "choropleth"
           }
          ],
          "contour": [
           {
            "colorbar": {
             "outlinewidth": 0,
             "ticks": ""
            },
            "colorscale": [
             [
              0,
              "#0d0887"
             ],
             [
              0.1111111111111111,
              "#46039f"
             ],
             [
              0.2222222222222222,
              "#7201a8"
             ],
             [
              0.3333333333333333,
              "#9c179e"
             ],
             [
              0.4444444444444444,
              "#bd3786"
             ],
             [
              0.5555555555555556,
              "#d8576b"
             ],
             [
              0.6666666666666666,
              "#ed7953"
             ],
             [
              0.7777777777777778,
              "#fb9f3a"
             ],
             [
              0.8888888888888888,
              "#fdca26"
             ],
             [
              1,
              "#f0f921"
             ]
            ],
            "type": "contour"
           }
          ],
          "contourcarpet": [
           {
            "colorbar": {
             "outlinewidth": 0,
             "ticks": ""
            },
            "type": "contourcarpet"
           }
          ],
          "heatmap": [
           {
            "colorbar": {
             "outlinewidth": 0,
             "ticks": ""
            },
            "colorscale": [
             [
              0,
              "#0d0887"
             ],
             [
              0.1111111111111111,
              "#46039f"
             ],
             [
              0.2222222222222222,
              "#7201a8"
             ],
             [
              0.3333333333333333,
              "#9c179e"
             ],
             [
              0.4444444444444444,
              "#bd3786"
             ],
             [
              0.5555555555555556,
              "#d8576b"
             ],
             [
              0.6666666666666666,
              "#ed7953"
             ],
             [
              0.7777777777777778,
              "#fb9f3a"
             ],
             [
              0.8888888888888888,
              "#fdca26"
             ],
             [
              1,
              "#f0f921"
             ]
            ],
            "type": "heatmap"
           }
          ],
          "heatmapgl": [
           {
            "colorbar": {
             "outlinewidth": 0,
             "ticks": ""
            },
            "colorscale": [
             [
              0,
              "#0d0887"
             ],
             [
              0.1111111111111111,
              "#46039f"
             ],
             [
              0.2222222222222222,
              "#7201a8"
             ],
             [
              0.3333333333333333,
              "#9c179e"
             ],
             [
              0.4444444444444444,
              "#bd3786"
             ],
             [
              0.5555555555555556,
              "#d8576b"
             ],
             [
              0.6666666666666666,
              "#ed7953"
             ],
             [
              0.7777777777777778,
              "#fb9f3a"
             ],
             [
              0.8888888888888888,
              "#fdca26"
             ],
             [
              1,
              "#f0f921"
             ]
            ],
            "type": "heatmapgl"
           }
          ],
          "histogram": [
           {
            "marker": {
             "pattern": {
              "fillmode": "overlay",
              "size": 10,
              "solidity": 0.2
             }
            },
            "type": "histogram"
           }
          ],
          "histogram2d": [
           {
            "colorbar": {
             "outlinewidth": 0,
             "ticks": ""
            },
            "colorscale": [
             [
              0,
              "#0d0887"
             ],
             [
              0.1111111111111111,
              "#46039f"
             ],
             [
              0.2222222222222222,
              "#7201a8"
             ],
             [
              0.3333333333333333,
              "#9c179e"
             ],
             [
              0.4444444444444444,
              "#bd3786"
             ],
             [
              0.5555555555555556,
              "#d8576b"
             ],
             [
              0.6666666666666666,
              "#ed7953"
             ],
             [
              0.7777777777777778,
              "#fb9f3a"
             ],
             [
              0.8888888888888888,
              "#fdca26"
             ],
             [
              1,
              "#f0f921"
             ]
            ],
            "type": "histogram2d"
           }
          ],
          "histogram2dcontour": [
           {
            "colorbar": {
             "outlinewidth": 0,
             "ticks": ""
            },
            "colorscale": [
             [
              0,
              "#0d0887"
             ],
             [
              0.1111111111111111,
              "#46039f"
             ],
             [
              0.2222222222222222,
              "#7201a8"
             ],
             [
              0.3333333333333333,
              "#9c179e"
             ],
             [
              0.4444444444444444,
              "#bd3786"
             ],
             [
              0.5555555555555556,
              "#d8576b"
             ],
             [
              0.6666666666666666,
              "#ed7953"
             ],
             [
              0.7777777777777778,
              "#fb9f3a"
             ],
             [
              0.8888888888888888,
              "#fdca26"
             ],
             [
              1,
              "#f0f921"
             ]
            ],
            "type": "histogram2dcontour"
           }
          ],
          "mesh3d": [
           {
            "colorbar": {
             "outlinewidth": 0,
             "ticks": ""
            },
            "type": "mesh3d"
           }
          ],
          "parcoords": [
           {
            "line": {
             "colorbar": {
              "outlinewidth": 0,
              "ticks": ""
             }
            },
            "type": "parcoords"
           }
          ],
          "pie": [
           {
            "automargin": true,
            "type": "pie"
           }
          ],
          "scatter": [
           {
            "fillpattern": {
             "fillmode": "overlay",
             "size": 10,
             "solidity": 0.2
            },
            "type": "scatter"
           }
          ],
          "scatter3d": [
           {
            "line": {
             "colorbar": {
              "outlinewidth": 0,
              "ticks": ""
             }
            },
            "marker": {
             "colorbar": {
              "outlinewidth": 0,
              "ticks": ""
             }
            },
            "type": "scatter3d"
           }
          ],
          "scattercarpet": [
           {
            "marker": {
             "colorbar": {
              "outlinewidth": 0,
              "ticks": ""
             }
            },
            "type": "scattercarpet"
           }
          ],
          "scattergeo": [
           {
            "marker": {
             "colorbar": {
              "outlinewidth": 0,
              "ticks": ""
             }
            },
            "type": "scattergeo"
           }
          ],
          "scattergl": [
           {
            "marker": {
             "colorbar": {
              "outlinewidth": 0,
              "ticks": ""
             }
            },
            "type": "scattergl"
           }
          ],
          "scattermapbox": [
           {
            "marker": {
             "colorbar": {
              "outlinewidth": 0,
              "ticks": ""
             }
            },
            "type": "scattermapbox"
           }
          ],
          "scatterpolar": [
           {
            "marker": {
             "colorbar": {
              "outlinewidth": 0,
              "ticks": ""
             }
            },
            "type": "scatterpolar"
           }
          ],
          "scatterpolargl": [
           {
            "marker": {
             "colorbar": {
              "outlinewidth": 0,
              "ticks": ""
             }
            },
            "type": "scatterpolargl"
           }
          ],
          "scatterternary": [
           {
            "marker": {
             "colorbar": {
              "outlinewidth": 0,
              "ticks": ""
             }
            },
            "type": "scatterternary"
           }
          ],
          "surface": [
           {
            "colorbar": {
             "outlinewidth": 0,
             "ticks": ""
            },
            "colorscale": [
             [
              0,
              "#0d0887"
             ],
             [
              0.1111111111111111,
              "#46039f"
             ],
             [
              0.2222222222222222,
              "#7201a8"
             ],
             [
              0.3333333333333333,
              "#9c179e"
             ],
             [
              0.4444444444444444,
              "#bd3786"
             ],
             [
              0.5555555555555556,
              "#d8576b"
             ],
             [
              0.6666666666666666,
              "#ed7953"
             ],
             [
              0.7777777777777778,
              "#fb9f3a"
             ],
             [
              0.8888888888888888,
              "#fdca26"
             ],
             [
              1,
              "#f0f921"
             ]
            ],
            "type": "surface"
           }
          ],
          "table": [
           {
            "cells": {
             "fill": {
              "color": "#EBF0F8"
             },
             "line": {
              "color": "white"
             }
            },
            "header": {
             "fill": {
              "color": "#C8D4E3"
             },
             "line": {
              "color": "white"
             }
            },
            "type": "table"
           }
          ]
         },
         "layout": {
          "annotationdefaults": {
           "arrowcolor": "#2a3f5f",
           "arrowhead": 0,
           "arrowwidth": 1
          },
          "autotypenumbers": "strict",
          "coloraxis": {
           "colorbar": {
            "outlinewidth": 0,
            "ticks": ""
           }
          },
          "colorscale": {
           "diverging": [
            [
             0,
             "#8e0152"
            ],
            [
             0.1,
             "#c51b7d"
            ],
            [
             0.2,
             "#de77ae"
            ],
            [
             0.3,
             "#f1b6da"
            ],
            [
             0.4,
             "#fde0ef"
            ],
            [
             0.5,
             "#f7f7f7"
            ],
            [
             0.6,
             "#e6f5d0"
            ],
            [
             0.7,
             "#b8e186"
            ],
            [
             0.8,
             "#7fbc41"
            ],
            [
             0.9,
             "#4d9221"
            ],
            [
             1,
             "#276419"
            ]
           ],
           "sequential": [
            [
             0,
             "#0d0887"
            ],
            [
             0.1111111111111111,
             "#46039f"
            ],
            [
             0.2222222222222222,
             "#7201a8"
            ],
            [
             0.3333333333333333,
             "#9c179e"
            ],
            [
             0.4444444444444444,
             "#bd3786"
            ],
            [
             0.5555555555555556,
             "#d8576b"
            ],
            [
             0.6666666666666666,
             "#ed7953"
            ],
            [
             0.7777777777777778,
             "#fb9f3a"
            ],
            [
             0.8888888888888888,
             "#fdca26"
            ],
            [
             1,
             "#f0f921"
            ]
           ],
           "sequentialminus": [
            [
             0,
             "#0d0887"
            ],
            [
             0.1111111111111111,
             "#46039f"
            ],
            [
             0.2222222222222222,
             "#7201a8"
            ],
            [
             0.3333333333333333,
             "#9c179e"
            ],
            [
             0.4444444444444444,
             "#bd3786"
            ],
            [
             0.5555555555555556,
             "#d8576b"
            ],
            [
             0.6666666666666666,
             "#ed7953"
            ],
            [
             0.7777777777777778,
             "#fb9f3a"
            ],
            [
             0.8888888888888888,
             "#fdca26"
            ],
            [
             1,
             "#f0f921"
            ]
           ]
          },
          "colorway": [
           "#636efa",
           "#EF553B",
           "#00cc96",
           "#ab63fa",
           "#FFA15A",
           "#19d3f3",
           "#FF6692",
           "#B6E880",
           "#FF97FF",
           "#FECB52"
          ],
          "font": {
           "color": "#2a3f5f"
          },
          "geo": {
           "bgcolor": "white",
           "lakecolor": "white",
           "landcolor": "#E5ECF6",
           "showlakes": true,
           "showland": true,
           "subunitcolor": "white"
          },
          "hoverlabel": {
           "align": "left"
          },
          "hovermode": "closest",
          "mapbox": {
           "style": "light"
          },
          "paper_bgcolor": "white",
          "plot_bgcolor": "#E5ECF6",
          "polar": {
           "angularaxis": {
            "gridcolor": "white",
            "linecolor": "white",
            "ticks": ""
           },
           "bgcolor": "#E5ECF6",
           "radialaxis": {
            "gridcolor": "white",
            "linecolor": "white",
            "ticks": ""
           }
          },
          "scene": {
           "xaxis": {
            "backgroundcolor": "#E5ECF6",
            "gridcolor": "white",
            "gridwidth": 2,
            "linecolor": "white",
            "showbackground": true,
            "ticks": "",
            "zerolinecolor": "white"
           },
           "yaxis": {
            "backgroundcolor": "#E5ECF6",
            "gridcolor": "white",
            "gridwidth": 2,
            "linecolor": "white",
            "showbackground": true,
            "ticks": "",
            "zerolinecolor": "white"
           },
           "zaxis": {
            "backgroundcolor": "#E5ECF6",
            "gridcolor": "white",
            "gridwidth": 2,
            "linecolor": "white",
            "showbackground": true,
            "ticks": "",
            "zerolinecolor": "white"
           }
          },
          "shapedefaults": {
           "line": {
            "color": "#2a3f5f"
           }
          },
          "ternary": {
           "aaxis": {
            "gridcolor": "white",
            "linecolor": "white",
            "ticks": ""
           },
           "baxis": {
            "gridcolor": "white",
            "linecolor": "white",
            "ticks": ""
           },
           "bgcolor": "#E5ECF6",
           "caxis": {
            "gridcolor": "white",
            "linecolor": "white",
            "ticks": ""
           }
          },
          "title": {
           "x": 0.05
          },
          "xaxis": {
           "automargin": true,
           "gridcolor": "white",
           "linecolor": "white",
           "ticks": "",
           "title": {
            "standoff": 15
           },
           "zerolinecolor": "white",
           "zerolinewidth": 2
          },
          "yaxis": {
           "automargin": true,
           "gridcolor": "white",
           "linecolor": "white",
           "ticks": "",
           "title": {
            "standoff": 15
           },
           "zerolinecolor": "white",
           "zerolinewidth": 2
          }
         }
        },
        "title": {
         "font": {
          "size": 22
         },
         "text": "Total Deaths by Gender 2017-2021"
        },
        "xaxis": {
         "ticktext": [
          "8M",
          "7M",
          "6M",
          "5M",
          "4M",
          "3M",
          "2M",
          "1M",
          "0",
          "1M",
          "2M",
          "3M",
          "4M",
          "5M",
          "6M",
          "7M",
          "8M"
         ],
         "tickvals": [
          -8000000,
          -7000000,
          -6000000,
          -5000000,
          -4000000,
          -3000000,
          -2000000,
          -1000000,
          0,
          1000000,
          2000000,
          3000000,
          4000000,
          5000000,
          6000000,
          7000000,
          8000000
         ],
         "title": {
          "font": {
           "size": 14
          },
          "text": "Death in Millions"
         }
        }
       }
      }
     },
     "metadata": {},
     "output_type": "display_data"
    }
   ],
   "source": [
    "\n",
    "# Creating instance of the figure \n",
    "fig = gp.Figure() \n",
    "  \n",
    "# Adding Male data to the figure \n",
    "fig.add_trace(gp.Bar(y= y_death, x = x_M,  \n",
    "                     name = 'Male', \n",
    "                     marker={'color': 'cornflowerblue'},\n",
    "                     orientation = 'h')) \n",
    "  \n",
    "# Adding Female data to the figure \n",
    "fig.add_trace(gp.Bar(y = y_death, x = x_F,\n",
    "                     marker={'color': 'orchid'}, \n",
    "                     name = 'Female', orientation = 'h')) \n",
    "  \n",
    "# Updating the layout for our graph \n",
    "fig.update_layout(title = 'Total Deaths by Gender 2017-2021', \n",
    "                 title_font_size = 22, barmode = 'relative', \n",
    "                 bargap = 0.0, bargroupgap = 0, \n",
    "                 xaxis = dict(tickvals = [-8000000, -7000000, -6000000, -5000000, -4000000, -3000000, -2000000, -1000000, \n",
    "                                          0, 1000000, 2000000, 3000000, 4000000, 5000000, 6000000, 7000000, 8000000], \n",
    "                                \n",
    "                              ticktext = [\"8M\",\"7M\",\"6M\",\"5M\",\"4M\",\"3M\",\"2M\",\"1M\",\"0\",  \n",
    "                                          \"1M\",\"2M\",\"3M\",\"4M\",\"5M\",\"6M\",\"7M\",\"8M\"], \n",
    "                                \n",
    "                              title = 'Death in Millions', \n",
    "                              title_font_size = 14) \n",
    "                 ) \n",
    "  \n",
    "fig.show()"
   ]
  },
  {
   "cell_type": "code",
   "execution_count": null,
   "metadata": {},
   "outputs": [],
   "source": [
    "# EXAMPLE - Alternate code for a graph for use in templating \n",
    "\n",
    "# WHO_group_unstacked = WHO_group.unstack()\n",
    "\n",
    "# Extract the data for plotting\n",
    "# years = WHO_group_unstacked.index\n",
    "# male_deaths = WHO_group_unstacked['1 - Male']\n",
    "# female_deaths = WHO_group_unstacked['2 - Female']\n",
    "\n",
    "# Define the width of the bars\n",
    "# bar_width = 0.4\n",
    "# Define the positions of the bars\n",
    "# r1 = range(len(years))\n",
    "# r2 = [x + bar_width for x in r1]\n",
    "\n",
    "# Create the bar plot\n",
    "# plt.bar(r1, male_deaths, color='cornflowerblue', width=bar_width, label='Male Deaths')\n",
    "# plt.bar(r2, female_deaths, color='orchid', width=bar_width, label='Female Deaths')\n",
    "\n",
    "# Add labels and formatting\n",
    "# plt.xlabel('Year')\n",
    "# plt.ylabel('Deaths')\n",
    "# plt.xticks([r + bar_width / 2 for r in range(len(years))], years, rotation=45)\n",
    "# plt.ticklabel_format(style='plain', axis='y')\n",
    "# plt.legend()\n",
    "# plt.title('Deaths by Gender - Nations Combined')\n",
    "# Show the plot\n",
    "# plt.show()"
   ]
  }
 ],
 "metadata": {
  "kernelspec": {
   "display_name": "dev",
   "language": "python",
   "name": "python3"
  },
  "language_info": {
   "codemirror_mode": {
    "name": "ipython",
    "version": 3
   },
   "file_extension": ".py",
   "mimetype": "text/x-python",
   "name": "python",
   "nbconvert_exporter": "python",
   "pygments_lexer": "ipython3",
   "version": "3.10.14"
  }
 },
 "nbformat": 4,
 "nbformat_minor": 2
}
