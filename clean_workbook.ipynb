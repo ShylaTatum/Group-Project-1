{
 "cells": [
  {
   "cell_type": "markdown",
   "metadata": {},
   "source": [
    "## Do Imports"
   ]
  },
  {
   "cell_type": "code",
   "execution_count": 1,
   "metadata": {},
   "outputs": [],
   "source": [
    "import pandas as pd"
   ]
  },
  {
   "cell_type": "markdown",
   "metadata": {},
   "source": [
    "## Read in Data Files"
   ]
  },
  {
   "cell_type": "code",
   "execution_count": 9,
   "metadata": {},
   "outputs": [
    {
     "name": "stderr",
     "output_type": "stream",
     "text": [
      "/var/folders/rr/f4rnf7xj5tj1x2gknbjs4mxm0000gn/T/ipykernel_26291/3942780982.py:2: DtypeWarning: Columns (2) have mixed types. Specify dtype option on import or set low_memory=False.\n",
      "  df_mort = pd.read_csv('Resources/source_data/Morticd10_part5_rev.csv')\n"
     ]
    }
   ],
   "source": [
    "# Read WHO morbidity data\n",
    "df_mort = pd.read_csv('Resources/source_data/Morticd10_part5_rev.csv')\n",
    "\n",
    "# Read WHO country names with codes, to be merged with morbidity data\n",
    "df_countries = pd.read_csv('Resources/source_data/country_codes.csv')\n",
    "\n",
    "# Read the list of countries to be used for our reporting\n",
    "df_filtered_countries = pd.read_csv('Resources/source_data/filtered_countries.csv')\n",
    "\n",
    "# Read the ICD 10 codes data\n",
    "df_icd10 = pd.read_csv('Resources/source_data/ICDCodeSet.csv')"
   ]
  }
 ],
 "metadata": {
  "kernelspec": {
   "display_name": "dev",
   "language": "python",
   "name": "python3"
  },
  "language_info": {
   "codemirror_mode": {
    "name": "ipython",
    "version": 3
   },
   "file_extension": ".py",
   "mimetype": "text/x-python",
   "name": "python",
   "nbconvert_exporter": "python",
   "pygments_lexer": "ipython3",
   "version": "3.10.14"
  }
 },
 "nbformat": 4,
 "nbformat_minor": 2
}
