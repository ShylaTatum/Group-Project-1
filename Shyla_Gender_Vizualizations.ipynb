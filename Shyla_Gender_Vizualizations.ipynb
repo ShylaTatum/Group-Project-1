{
 "cells": [
  {
   "cell_type": "code",
   "execution_count": 2,
   "metadata": {},
   "outputs": [],
   "source": [
    "import pandas as pd\n",
    "from pandas import Series, DataFrame\n",
    "import matplotlib.pyplot as plt\n",
    "import numpy as np\n",
    "import plotly.graph_objects as gp"
   ]
  },
  {
   "cell_type": "code",
   "execution_count": 3,
   "metadata": {},
   "outputs": [
    {
     "data": {
      "text/html": [
       "<div>\n",
       "<style scoped>\n",
       "    .dataframe tbody tr th:only-of-type {\n",
       "        vertical-align: middle;\n",
       "    }\n",
       "\n",
       "    .dataframe tbody tr th {\n",
       "        vertical-align: top;\n",
       "    }\n",
       "\n",
       "    .dataframe thead th {\n",
       "        text-align: right;\n",
       "    }\n",
       "</style>\n",
       "<table border=\"1\" class=\"dataframe\">\n",
       "  <thead>\n",
       "    <tr style=\"text-align: right;\">\n",
       "      <th></th>\n",
       "      <th>Year</th>\n",
       "      <th>Country Code</th>\n",
       "      <th>Country Name</th>\n",
       "      <th>Region</th>\n",
       "      <th>Sex</th>\n",
       "      <th>ICD Code</th>\n",
       "      <th>ICD Category</th>\n",
       "      <th>ICD10 Version</th>\n",
       "      <th>Deaths: All Ages</th>\n",
       "      <th>Deaths: 0-1 Years</th>\n",
       "      <th>Deaths: 1-24 Years</th>\n",
       "      <th>Deaths: 25-44 Years</th>\n",
       "      <th>Deaths: 45-69 Years</th>\n",
       "      <th>Deaths: 70-95+ Years</th>\n",
       "      <th>Deaths: Age Not Specified</th>\n",
       "      <th>Age Format</th>\n",
       "      <th>Deaths: Smoketest All Ages</th>\n",
       "    </tr>\n",
       "  </thead>\n",
       "  <tbody>\n",
       "    <tr>\n",
       "      <th>0</th>\n",
       "      <td>2017</td>\n",
       "      <td>4160</td>\n",
       "      <td>Iceland</td>\n",
       "      <td>Northern Europe</td>\n",
       "      <td>1 - Male</td>\n",
       "      <td>A02</td>\n",
       "      <td>Infectious and parasitic diseases</td>\n",
       "      <td>103</td>\n",
       "      <td>1</td>\n",
       "      <td>0.0</td>\n",
       "      <td>0.0</td>\n",
       "      <td>0.0</td>\n",
       "      <td>0.0</td>\n",
       "      <td>1.0</td>\n",
       "      <td>0.0</td>\n",
       "      <td>0</td>\n",
       "      <td>1.0</td>\n",
       "    </tr>\n",
       "    <tr>\n",
       "      <th>1</th>\n",
       "      <td>2017</td>\n",
       "      <td>4160</td>\n",
       "      <td>Iceland</td>\n",
       "      <td>Northern Europe</td>\n",
       "      <td>1 - Male</td>\n",
       "      <td>A04</td>\n",
       "      <td>Infectious and parasitic diseases</td>\n",
       "      <td>103</td>\n",
       "      <td>1</td>\n",
       "      <td>0.0</td>\n",
       "      <td>0.0</td>\n",
       "      <td>0.0</td>\n",
       "      <td>0.0</td>\n",
       "      <td>1.0</td>\n",
       "      <td>0.0</td>\n",
       "      <td>0</td>\n",
       "      <td>1.0</td>\n",
       "    </tr>\n",
       "    <tr>\n",
       "      <th>2</th>\n",
       "      <td>2017</td>\n",
       "      <td>4160</td>\n",
       "      <td>Iceland</td>\n",
       "      <td>Northern Europe</td>\n",
       "      <td>1 - Male</td>\n",
       "      <td>A08</td>\n",
       "      <td>Infectious and parasitic diseases</td>\n",
       "      <td>103</td>\n",
       "      <td>1</td>\n",
       "      <td>0.0</td>\n",
       "      <td>0.0</td>\n",
       "      <td>0.0</td>\n",
       "      <td>0.0</td>\n",
       "      <td>1.0</td>\n",
       "      <td>0.0</td>\n",
       "      <td>0</td>\n",
       "      <td>1.0</td>\n",
       "    </tr>\n",
       "    <tr>\n",
       "      <th>3</th>\n",
       "      <td>2017</td>\n",
       "      <td>4160</td>\n",
       "      <td>Iceland</td>\n",
       "      <td>Northern Europe</td>\n",
       "      <td>1 - Male</td>\n",
       "      <td>A32</td>\n",
       "      <td>Infectious and parasitic diseases</td>\n",
       "      <td>103</td>\n",
       "      <td>1</td>\n",
       "      <td>0.0</td>\n",
       "      <td>0.0</td>\n",
       "      <td>0.0</td>\n",
       "      <td>0.0</td>\n",
       "      <td>0.0</td>\n",
       "      <td>0.0</td>\n",
       "      <td>0</td>\n",
       "      <td>1.0</td>\n",
       "    </tr>\n",
       "    <tr>\n",
       "      <th>4</th>\n",
       "      <td>2017</td>\n",
       "      <td>4160</td>\n",
       "      <td>Iceland</td>\n",
       "      <td>Northern Europe</td>\n",
       "      <td>1 - Male</td>\n",
       "      <td>A41</td>\n",
       "      <td>Infectious and parasitic diseases</td>\n",
       "      <td>103</td>\n",
       "      <td>4</td>\n",
       "      <td>0.0</td>\n",
       "      <td>0.0</td>\n",
       "      <td>0.0</td>\n",
       "      <td>2.0</td>\n",
       "      <td>2.0</td>\n",
       "      <td>0.0</td>\n",
       "      <td>0</td>\n",
       "      <td>4.0</td>\n",
       "    </tr>\n",
       "  </tbody>\n",
       "</table>\n",
       "</div>"
      ],
      "text/plain": [
       "   Year  Country Code Country Name           Region       Sex ICD Code  \\\n",
       "0  2017          4160      Iceland  Northern Europe  1 - Male      A02   \n",
       "1  2017          4160      Iceland  Northern Europe  1 - Male      A04   \n",
       "2  2017          4160      Iceland  Northern Europe  1 - Male      A08   \n",
       "3  2017          4160      Iceland  Northern Europe  1 - Male      A32   \n",
       "4  2017          4160      Iceland  Northern Europe  1 - Male      A41   \n",
       "\n",
       "                        ICD Category  ICD10 Version  Deaths: All Ages  \\\n",
       "0  Infectious and parasitic diseases            103                 1   \n",
       "1  Infectious and parasitic diseases            103                 1   \n",
       "2  Infectious and parasitic diseases            103                 1   \n",
       "3  Infectious and parasitic diseases            103                 1   \n",
       "4  Infectious and parasitic diseases            103                 4   \n",
       "\n",
       "   Deaths: 0-1 Years  Deaths: 1-24 Years  Deaths: 25-44 Years  \\\n",
       "0                0.0                 0.0                  0.0   \n",
       "1                0.0                 0.0                  0.0   \n",
       "2                0.0                 0.0                  0.0   \n",
       "3                0.0                 0.0                  0.0   \n",
       "4                0.0                 0.0                  0.0   \n",
       "\n",
       "   Deaths: 45-69 Years  Deaths: 70-95+ Years  Deaths: Age Not Specified  \\\n",
       "0                  0.0                   1.0                        0.0   \n",
       "1                  0.0                   1.0                        0.0   \n",
       "2                  0.0                   1.0                        0.0   \n",
       "3                  0.0                   0.0                        0.0   \n",
       "4                  2.0                   2.0                        0.0   \n",
       "\n",
       "   Age Format  Deaths: Smoketest All Ages  \n",
       "0           0                         1.0  \n",
       "1           0                         1.0  \n",
       "2           0                         1.0  \n",
       "3           0                         1.0  \n",
       "4           0                         4.0  "
      ]
     },
     "execution_count": 3,
     "metadata": {},
     "output_type": "execute_result"
    }
   ],
   "source": [
    "#filepath = '..\\Data\\current_who_mortality_2017_2021.csv'\n",
    "WHO_df = pd.read_csv('C:\\\\Users\\\\shyar\\\\OneDrive\\\\Bootcamp\\\\P1Shyla_Branch\\\\Data\\\\WHO.csv')\n",
    "WHO_df.head()"
   ]
  },
  {
   "cell_type": "code",
   "execution_count": 24,
   "metadata": {},
   "outputs": [
    {
     "data": {
      "image/png": "[encoded data removed]",
      "text/plain": [
       "<Figure size 640x480 with 1 Axes>"
      ]
     },
     "metadata": {},
     "output_type": "display_data"
    }
   ],
   "source": [
    "\n",
    "male = WHO_df.loc[(WHO_df[\"Sex\"]==\"1 - Male\") & (WHO_df[\"ICD Category\"]), \"Year\"]\n",
    "female = WHO_df.loc[(WHO_df[\"Sex\"]==\"2 - Female\") & (WHO_df[\"ICD Category\"]), \"Year\"]\n",
    "width = 0.3\n",
    "plt.bar(np.arange(len(male)), male, width=width)\n",
    "plt.bar(np.arange(len(female))+ width, female, width=width )\n",
    "plt.show()\n"
   ]
  },
  {
   "cell_type": "code",
   "execution_count": 25,
   "metadata": {},
   "outputs": [
    {
     "data": {
      "image/png": "[encoded data removed]",
      "text/plain": [
       "<Figure size 640x480 with 1 Axes>"
      ]
     },
     "metadata": {},
     "output_type": "display_data"
    }
   ],
   "source": [
    "male = WHO_df.loc[(WHO_df[\"Sex\"]==\"1 - Male\"), \"Year\"]\n",
    "female = WHO_df.loc[(WHO_df[\"Sex\"]==\"2 - Female\"), \"Year\"]\n",
    "width = 0.3\n",
    "plt.bar(np.arange(len(male)), male, width=width)\n",
    "plt.bar(np.arange(len(female))+ width, female, width=width )\n",
    "plt.show()"
   ]
  },
  {
   "cell_type": "code",
   "execution_count": 4,
   "metadata": {},
   "outputs": [
    {
     "data": {
      "text/plain": [
       "Year\n",
       "2021    45358\n",
       "2020    43931\n",
       "2017    43128\n",
       "2019    41775\n",
       "2018    41381\n",
       "Name: count, dtype: int64"
      ]
     },
     "execution_count": 4,
     "metadata": {},
     "output_type": "execute_result"
    }
   ],
   "source": [
    "WHO_df[\"Year\"].value_counts()\n"
   ]
  },
  {
   "cell_type": "code",
   "execution_count": 30,
   "metadata": {},
   "outputs": [
    {
     "data": {
      "image/png": "[encoded data removed]",
      "text/plain": [
       "<Figure size 640x480 with 1 Axes>"
      ]
     },
     "metadata": {},
     "output_type": "display_data"
    }
   ],
   "source": [
    "year = WHO_df.loc[(WHO_df[\"Sex\"]==\"1 - Male\"), \"Year\"]\n",
    "male_deaths = WHO_df.loc[(WHO_df[\"Sex\"]==\"1 - Male\"), \"Deaths: All Ages\"]\n",
    "plt.bar(year, male_deaths)\n",
    "\n",
    "plt.show()"
   ]
  },
  {
   "cell_type": "code",
   "execution_count": 159,
   "metadata": {},
   "outputs": [
    {
     "data": {
      "image/png": "[encoded data removed]",
      "text/plain": [
       "<Figure size 640x480 with 1 Axes>"
      ]
     },
     "metadata": {},
     "output_type": "display_data"
    }
   ],
   "source": [
    "\n",
    "year = WHO_df.loc[(WHO_df[\"Sex\"]==\"1 - Male\"), \"Year\"]\n",
    "year2 = WHO_df.loc[(WHO_df[\"Sex\"]==\"2 - Female\"), \"Year\"]\n",
    "\n",
    "male_deaths = WHO_df.loc[(WHO_df[\"Sex\"]==\"1 - Male\"), \"Deaths: All Ages\"]\n",
    "female_deaths = WHO_df.loc[(WHO_df[\"Sex\"]==\"2 - Female\"), \"Deaths: All Ages\"]\n",
    "\n",
    "plt.bar(year, male_deaths, color='cornflowerblue', label = \"Male Deaths\")\n",
    "plt.bar(year2, female_deaths, color='orchid', label =\"Female Deaths\")\n",
    "plt.xlabel(\"Deaths\")\n",
    "plt.ylabel(\"Year\")\n",
    "plt.legend()\n",
    "plt.title(\"Deaths by Gender - All Nations\")\n",
    "plt.ticklabel_format(style=\"plain\")\n",
    "\n",
    "plt.show()"
   ]
  },
  {
   "cell_type": "code",
   "execution_count": 27,
   "metadata": {},
   "outputs": [
    {
     "data": {
      "image/png": "[encoded data removed]",
      "text/plain": [
       "<Figure size 640x480 with 1 Axes>"
      ]
     },
     "metadata": {},
     "output_type": "display_data"
    }
   ],
   "source": [
    "X = [2017, 2018, 2019, 2020, 2021]\n",
    "year = WHO_df.loc[(WHO_df[\"Sex\"]==\"1 - Male\"), \"Year\"]\n",
    "year2 = WHO_df.loc[(WHO_df[\"Sex\"]==\"2 - Female\"), \"Year\"]\n",
    "\n",
    "X_axis = np.arange(len(X))\n",
    "\n",
    "male_deaths = WHO_df.loc[(WHO_df[\"Sex\"]==\"1 - Male\"), \"Deaths: All Ages\"]\n",
    "female_deaths = WHO_df.loc[(WHO_df[\"Sex\"]==\"2 - Female\"), \"Deaths: All Ages\"]\n",
    "\n",
    "plt.bar(year -0.2, male_deaths, width=0.4, color=\"cornflowerblue\", label =\"Male Deaths\")\n",
    "plt.bar(year2 +0.2, female_deaths, width=0.4, color=\"orchid\",label =\"Female Deaths\")\n",
    "\n",
    "#plt.xticks(X_axis, X)\n",
    "plt.xlabel(\"Deaths\")\n",
    "plt.ylabel(\"Year\")\n",
    "plt.title(\"Deaths by Gender - All Nations\")\n",
    "plt.legend()\n",
    "plt.ticklabel_format(style=\"plain\")\n",
    "\n",
    "\n",
    "plt.show()"
   ]
  },
  {
   "cell_type": "code",
   "execution_count": 5,
   "metadata": {},
   "outputs": [
    {
     "data": {
      "text/plain": [
       "Country Name\n",
       "Australia                   10\n",
       "Brazil                      10\n",
       "Canada                      10\n",
       "Chile                       10\n",
       "Iceland                     10\n",
       "Israel                      10\n",
       "Japan                       10\n",
       "Poland                      10\n",
       "Singapore                   10\n",
       "Sweden                      10\n",
       "United States of America    10\n",
       "Tunisia                      6\n",
       "Name: count, dtype: int64"
      ]
     },
     "metadata": {},
     "output_type": "display_data"
    },
    {
     "data": {
      "text/plain": [
       "Sex\n",
       "1 - Male      58\n",
       "2 - Female    58\n",
       "Name: count, dtype: int64"
      ]
     },
     "metadata": {},
     "output_type": "display_data"
    }
   ],
   "source": [
    "\n",
    "Boolean_Who = WHO_df[(WHO_df[\"Sex\"]==\"1 - Male\") | (WHO_df[\"Sex\"]==\"2 - Female\")]\n",
    "WHO_group = Boolean_Who.groupby([\"Year\", \"Sex\", \"Country Name\"]).sum()\n",
    "WHO_group = WHO_group.reset_index()\n",
    "#WHO_df =pd.DataFrame(WHO_df)\n",
    "#Unspecified = WHO_group.drop([\"Sex\"]== \"9 - Unspecified\")\n",
    "#WHO_group = WHO_group.drop(Unspecified == True, inplace= True)\n",
    "display(WHO_group.value_counts(\"Country Name\"))\n",
    "display(WHO_group.value_counts(\"Sex\"))\n"
   ]
  },
  {
   "cell_type": "code",
   "execution_count": 7,
   "metadata": {},
   "outputs": [],
   "source": [
    "WHO_group.drop(columns=[\"Deaths: 0-1 Years\",\"Deaths: 1-24 Years\",\"Deaths: 25-44 Years\"], inplace= True)\n",
    "WHO_group.drop(columns=[\"Deaths: 45-69 Years\",\"Deaths: 70-95+ Years\",\"Deaths: Age Not Specified\",\"Age Format\",\"Deaths: Smoketest All Ages\"], inplace=True)\n",
    "WHO_group.drop(columns=[\"Country Code\", 'Region', \"ICD Code\", \"ICD Category\", \"ICD10 Version\"], inplace=True)"
   ]
  },
  {
   "cell_type": "code",
   "execution_count": 8,
   "metadata": {},
   "outputs": [],
   "source": [
    "\n",
    "WHO_Country = WHO_group.groupby([\"Sex\", \"Country Name\",\"Deaths: All Ages\"]).sum()\n",
    "WHO_Country.reset_index(inplace=True)\n",
    "\n",
    "y_death = WHO_Country[\"Country Name\"]\n",
    "x_M = WHO_Country.loc[WHO_Country[\"Sex\"] == \"1 - Male\", \"Deaths: All Ages\"]\n",
    "x_F = WHO_Country.loc[WHO_Country[\"Sex\"] == \"2 - Female\", \"Deaths: All Ages\"] * -1\n",
    "\n"
   ]
  },
  {
   "cell_type": "code",
   "execution_count": 9,
   "metadata": {},
   "outputs": [
    {
     "data": {
      "application/vnd.plotly.v1+json": {
       "config": {
        "plotlyServerURL": "https://plot.ly"
       },
       "data": [
        {
         "marker": {
          "color": "cornflowerblue"
         },
         "name": "Male",
         "orientation": "h",
         "type": "bar",
         "x": [
          164882,
          165948,
          169176,
          176222,
          178802,
          1467232,
          1468940,
          1491038,
          1748334,
          2030700,
          282198,
          291542,
          292684,
          319444,
          327452,
          111546,
          112186,
          115264,
          135272,
          146870,
          2248,
          2278,
          2314,
          2334,
          2356,
          44846,
          45296,
          46016,
          49840,
          51550,
          1381366,
          1398276,
          1413668,
          1414842,
          1476282,
          415342,
          422846,
          427294,
          499488,
          537316,
          21348,
          21728,
          21946,
          23262,
          25390,
          88636,
          89866,
          90912,
          93112,
          99424,
          29636,
          47934,
          74168,
          2878222,
          2916938,
          2947646,
          3539768,
          3676216
         ],
         "y": [
          "Australia",
          "Australia",
          "Australia",
          "Australia",
          "Australia",
          "Brazil",
          "Brazil",
          "Brazil",
          "Brazil",
          "Brazil",
          "Canada",
          "Canada",
          "Canada",
          "Canada",
          "Canada",
          "Chile",
          "Chile",
          "Chile",
          "Chile",
          "Chile",
          "Iceland",
          "Iceland",
          "Iceland",
          "Iceland",
          "Iceland",
          "Israel",
          "Israel",
          "Israel",
          "Israel",
          "Israel",
          "Japan",
          "Japan",
          "Japan",
          "Japan",
          "Japan",
          "Poland",
          "Poland",
          "Poland",
          "Poland",
          "Poland",
          "Singapore",
          "Singapore",
          "Singapore",
          "Singapore",
          "Singapore",
          "Sweden",
          "Sweden",
          "Sweden",
          "Sweden",
          "Sweden",
          "Tunisia",
          "Tunisia",
          "Tunisia",
          "United States of America",
          "United States of America",
          "United States of America",
          "United States of America",
          "United States of America",
          "Australia",
          "Australia",
          "Australia",
          "Australia",
          "Australia",
          "Brazil",
          "Brazil",
          "Brazil",
          "Brazil",
          "Brazil",
          "Canada",
          "Canada",
          "Canada",
          "Canada",
          "Canada",
          "Chile",
          "Chile",
          "Chile",
          "Chile",
          "Chile",
          "Iceland",
          "Iceland",
          "Iceland",
          "Iceland",
          "Iceland",
          "Israel",
          "Israel",
          "Israel",
          "Israel",
          "Israel",
          "Japan",
          "Japan",
          "Japan",
          "Japan",
          "Japan",
          "Poland",
          "Poland",
          "Poland",
          "Poland",
          "Poland",
          "Singapore",
          "Singapore",
          "Singapore",
          "Singapore",
          "Singapore",
          "Sweden",
          "Sweden",
          "Sweden",
          "Sweden",
          "Sweden",
          "Tunisia",
          "Tunisia",
          "Tunisia",
          "United States of America",
          "United States of America",
          "United States of America",
          "United States of America",
          "United States of America"
         ]
        },
        {
         "marker": {
          "color": "orchid"
         },
         "name": "Female",
         "orientation": "h",
         "type": "bar",
         "x": [
          -152438,
          -153424,
          -156218,
          -161702,
          -164136,
          -1155146,
          -1164914,
          -1207450,
          -1364054,
          -1633232,
          -271180,
          -277918,
          -279866,
          -295828,
          -297380,
          -101186,
          -101368,
          -104020,
          -117038,
          -128364,
          -2224,
          -2238,
          -2240,
          -2276,
          -2310,
          -43896,
          -44228,
          -45992,
          -47754,
          -49994,
          -1299428,
          -1326664,
          -1331842,
          -1347344,
          -1403430,
          -390362,
          -396572,
          -401106,
          -455222,
          -501718,
          -18178,
          -18460,
          -18630,
          -18706,
          -21150,
          -89770,
          -91046,
          -93588,
          -94284,
          -97764,
          -21644,
          -36672,
          -59996,
          -2748784,
          -2761472,
          -2762030,
          -3227690,
          -3252246
         ],
         "y": [
          "Australia",
          "Australia",
          "Australia",
          "Australia",
          "Australia",
          "Brazil",
          "Brazil",
          "Brazil",
          "Brazil",
          "Brazil",
          "Canada",
          "Canada",
          "Canada",
          "Canada",
          "Canada",
          "Chile",
          "Chile",
          "Chile",
          "Chile",
          "Chile",
          "Iceland",
          "Iceland",
          "Iceland",
          "Iceland",
          "Iceland",
          "Israel",
          "Israel",
          "Israel",
          "Israel",
          "Israel",
          "Japan",
          "Japan",
          "Japan",
          "Japan",
          "Japan",
          "Poland",
          "Poland",
          "Poland",
          "Poland",
          "Poland",
          "Singapore",
          "Singapore",
          "Singapore",
          "Singapore",
          "Singapore",
          "Sweden",
          "Sweden",
          "Sweden",
          "Sweden",
          "Sweden",
          "Tunisia",
          "Tunisia",
          "Tunisia",
          "United States of America",
          "United States of America",
          "United States of America",
          "United States of America",
          "United States of America",
          "Australia",
          "Australia",
          "Australia",
          "Australia",
          "Australia",
          "Brazil",
          "Brazil",
          "Brazil",
          "Brazil",
          "Brazil",
          "Canada",
          "Canada",
          "Canada",
          "Canada",
          "Canada",
          "Chile",
          "Chile",
          "Chile",
          "Chile",
          "Chile",
          "Iceland",
          "Iceland",
          "Iceland",
          "Iceland",
          "Iceland",
          "Israel",
          "Israel",
          "Israel",
          "Israel",
          "Israel",
          "Japan",
          "Japan",
          "Japan",
          "Japan",
          "Japan",
          "Poland",
          "Poland",
          "Poland",
          "Poland",
          "Poland",
          "Singapore",
          "Singapore",
          "Singapore",
          "Singapore",
          "Singapore",
          "Sweden",
          "Sweden",
          "Sweden",
          "Sweden",
          "Sweden",
          "Tunisia",
          "Tunisia",
          "Tunisia",
          "United States of America",
          "United States of America",
          "United States of America",
          "United States of America",
          "United States of America"
         ]
        }
       ],
       "layout": {
        "bargap": 0,
        "bargroupgap": 0,
        "barmode": "relative",
        "template": {
         "data": {
          "bar": [
           {
            "error_x": {
             "color": "#2a3f5f"
            },
            "error_y": {
             "color": "#2a3f5f"
            },
            "marker": {
             "line": {
              "color": "#E5ECF6",
              "width": 0.5
             },
             "pattern": {
              "fillmode": "overlay",
              "size": 10,
              "solidity": 0.2
             }
            },
            "type": "bar"
           }
          ],
          "barpolar": [
           {
            "marker": {
             "line": {
              "color": "#E5ECF6",
              "width": 0.5
             },
             "pattern": {
              "fillmode": "overlay",
              "size": 10,
              "solidity": 0.2
             }
            },
            "type": "barpolar"
           }
          ],
          "carpet": [
           {
            "aaxis": {
             "endlinecolor": "#2a3f5f",
             "gridcolor": "white",
             "linecolor": "white",
             "minorgridcolor": "white",
             "startlinecolor": "#2a3f5f"
            },
            "baxis": {
             "endlinecolor": "#2a3f5f",
             "gridcolor": "white",
             "linecolor": "white",
             "minorgridcolor": "white",
             "startlinecolor": "#2a3f5f"
            },
            "type": "carpet"
           }
          ],
          "choropleth": [
           {
            "colorbar": {
             "outlinewidth": 0,
             "ticks": ""
            },
            "type": "choropleth"
           }
          ],
          "contour": [
           {
            "colorbar": {
             "outlinewidth": 0,
             "ticks": ""
            },
            "colorscale": [
             [
              0,
              "#0d0887"
             ],
             [
              0.1111111111111111,
              "#46039f"
             ],
             [
              0.2222222222222222,
              "#7201a8"
             ],
             [
              0.3333333333333333,
              "#9c179e"
             ],
             [
              0.4444444444444444,
              "#bd3786"
             ],
             [
              0.5555555555555556,
              "#d8576b"
             ],
             [
              0.6666666666666666,
              "#ed7953"
             ],
             [
              0.7777777777777778,
              "#fb9f3a"
             ],
             [
              0.8888888888888888,
              "#fdca26"
             ],
             [
              1,
              "#f0f921"
             ]
            ],
            "type": "contour"
           }
          ],
          "contourcarpet": [
           {
            "colorbar": {
             "outlinewidth": 0,
             "ticks": ""
            },
            "type": "contourcarpet"
           }
          ],
          "heatmap": [
           {
            "colorbar": {
             "outlinewidth": 0,
             "ticks": ""
            },
            "colorscale": [
             [
              0,
              "#0d0887"
             ],
             [
              0.1111111111111111,
              "#46039f"
             ],
             [
              0.2222222222222222,
              "#7201a8"
             ],
             [
              0.3333333333333333,
              "#9c179e"
             ],
             [
              0.4444444444444444,
              "#bd3786"
             ],
             [
              0.5555555555555556,
              "#d8576b"
             ],
             [
              0.6666666666666666,
              "#ed7953"
             ],
             [
              0.7777777777777778,
              "#fb9f3a"
             ],
             [
              0.8888888888888888,
              "#fdca26"
             ],
             [
              1,
              "#f0f921"
             ]
            ],
            "type": "heatmap"
           }
          ],
          "heatmapgl": [
           {
            "colorbar": {
             "outlinewidth": 0,
             "ticks": ""
            },
            "colorscale": [
             [
              0,
              "#0d0887"
             ],
             [
              0.1111111111111111,
              "#46039f"
             ],
             [
              0.2222222222222222,
              "#7201a8"
             ],
             [
              0.3333333333333333,
              "#9c179e"
             ],
             [
              0.4444444444444444,
              "#bd3786"
             ],
             [
              0.5555555555555556,
              "#d8576b"
             ],
             [
              0.6666666666666666,
              "#ed7953"
             ],
             [
              0.7777777777777778,
              "#fb9f3a"
             ],
             [
              0.8888888888888888,
              "#fdca26"
             ],
             [
              1,
              "#f0f921"
             ]
            ],
            "type": "heatmapgl"
           }
          ],
          "histogram": [
           {
            "marker": {
             "pattern": {
              "fillmode": "overlay",
              "size": 10,
              "solidity": 0.2
             }
            },
            "type": "histogram"
           }
          ],
          "histogram2d": [
           {
            "colorbar": {
             "outlinewidth": 0,
             "ticks": ""
            },
            "colorscale": [
             [
              0,
              "#0d0887"
             ],
             [
              0.1111111111111111,
              "#46039f"
             ],
             [
              0.2222222222222222,
              "#7201a8"
             ],
             [
              0.3333333333333333,
              "#9c179e"
             ],
             [
              0.4444444444444444,
              "#bd3786"
             ],
             [
              0.5555555555555556,
              "#d8576b"
             ],
             [
              0.6666666666666666,
              "#ed7953"
             ],
             [
              0.7777777777777778,
              "#fb9f3a"
             ],
             [
              0.8888888888888888,
              "#fdca26"
             ],
             [
              1,
              "#f0f921"
             ]
            ],
            "type": "histogram2d"
           }
          ],
          "histogram2dcontour": [
           {
            "colorbar": {
             "outlinewidth": 0,
             "ticks": ""
            },
            "colorscale": [
             [
              0,
              "#0d0887"
             ],
             [
              0.1111111111111111,
              "#46039f"
             ],
             [
              0.2222222222222222,
              "#7201a8"
             ],
             [
              0.3333333333333333,
              "#9c179e"
             ],
             [
              0.4444444444444444,
              "#bd3786"
             ],
             [
              0.5555555555555556,
              "#d8576b"
             ],
             [
              0.6666666666666666,
              "#ed7953"
             ],
             [
              0.7777777777777778,
              "#fb9f3a"
             ],
             [
              0.8888888888888888,
              "#fdca26"
             ],
             [
              1,
              "#f0f921"
             ]
            ],
            "type": "histogram2dcontour"
           }
          ],
          "mesh3d": [
           {
            "colorbar": {
             "outlinewidth": 0,
             "ticks": ""
            },
            "type": "mesh3d"
           }
          ],
          "parcoords": [
           {
            "line": {
             "colorbar": {
              "outlinewidth": 0,
              "ticks": ""
             }
            },
            "type": "parcoords"
           }
          ],
          "pie": [
           {
            "automargin": true,
            "type": "pie"
           }
          ],
          "scatter": [
           {
            "fillpattern": {
             "fillmode": "overlay",
             "size": 10,
             "solidity": 0.2
            },
            "type": "scatter"
           }
          ],
          "scatter3d": [
           {
            "line": {
             "colorbar": {
              "outlinewidth": 0,
              "ticks": ""
             }
            },
            "marker": {
             "colorbar": {
              "outlinewidth": 0,
              "ticks": ""
             }
            },
            "type": "scatter3d"
           }
          ],
          "scattercarpet": [
           {
            "marker": {
             "colorbar": {
              "outlinewidth": 0,
              "ticks": ""
             }
            },
            "type": "scattercarpet"
           }
          ],
          "scattergeo": [
           {
            "marker": {
             "colorbar": {
              "outlinewidth": 0,
              "ticks": ""
             }
            },
            "type": "scattergeo"
           }
          ],
          "scattergl": [
           {
            "marker": {
             "colorbar": {
              "outlinewidth": 0,
              "ticks": ""
             }
            },
            "type": "scattergl"
           }
          ],
          "scattermapbox": [
           {
            "marker": {
             "colorbar": {
              "outlinewidth": 0,
              "ticks": ""
             }
            },
            "type": "scattermapbox"
           }
          ],
          "scatterpolar": [
           {
            "marker": {
             "colorbar": {
              "outlinewidth": 0,
              "ticks": ""
             }
            },
            "type": "scatterpolar"
           }
          ],
          "scatterpolargl": [
           {
            "marker": {
             "colorbar": {
              "outlinewidth": 0,
              "ticks": ""
             }
            },
            "type": "scatterpolargl"
           }
          ],
          "scatterternary": [
           {
            "marker": {
             "colorbar": {
              "outlinewidth": 0,
              "ticks": ""
             }
            },
            "type": "scatterternary"
           }
          ],
          "surface": [
           {
            "colorbar": {
             "outlinewidth": 0,
             "ticks": ""
            },
            "colorscale": [
             [
              0,
              "#0d0887"
             ],
             [
              0.1111111111111111,
              "#46039f"
             ],
             [
              0.2222222222222222,
              "#7201a8"
             ],
             [
              0.3333333333333333,
              "#9c179e"
             ],
             [
              0.4444444444444444,
              "#bd3786"
             ],
             [
              0.5555555555555556,
              "#d8576b"
             ],
             [
              0.6666666666666666,
              "#ed7953"
             ],
             [
              0.7777777777777778,
              "#fb9f3a"
             ],
             [
              0.8888888888888888,
              "#fdca26"
             ],
             [
              1,
              "#f0f921"
             ]
            ],
            "type": "surface"
           }
          ],
          "table": [
           {
            "cells": {
             "fill": {
              "color": "#EBF0F8"
             },
             "line": {
              "color": "white"
             }
            },
            "header": {
             "fill": {
              "color": "#C8D4E3"
             },
             "line": {
              "color": "white"
             }
            },
            "type": "table"
           }
          ]
         },
         "layout": {
          "annotationdefaults": {
           "arrowcolor": "#2a3f5f",
           "arrowhead": 0,
           "arrowwidth": 1
          },
          "autotypenumbers": "strict",
          "coloraxis": {
           "colorbar": {
            "outlinewidth": 0,
            "ticks": ""
           }
          },
          "colorscale": {
           "diverging": [
            [
             0,
             "#8e0152"
            ],
            [
             0.1,
             "#c51b7d"
            ],
            [
             0.2,
             "#de77ae"
            ],
            [
             0.3,
             "#f1b6da"
            ],
            [
             0.4,
             "#fde0ef"
            ],
            [
             0.5,
             "#f7f7f7"
            ],
            [
             0.6,
             "#e6f5d0"
            ],
            [
             0.7,
             "#b8e186"
            ],
            [
             0.8,
             "#7fbc41"
            ],
            [
             0.9,
             "#4d9221"
            ],
            [
             1,
             "#276419"
            ]
           ],
           "sequential": [
            [
             0,
             "#0d0887"
            ],
            [
             0.1111111111111111,
             "#46039f"
            ],
            [
             0.2222222222222222,
             "#7201a8"
            ],
            [
             0.3333333333333333,
             "#9c179e"
            ],
            [
             0.4444444444444444,
             "#bd3786"
            ],
            [
             0.5555555555555556,
             "#d8576b"
            ],
            [
             0.6666666666666666,
             "#ed7953"
            ],
            [
             0.7777777777777778,
             "#fb9f3a"
            ],
            [
             0.8888888888888888,
             "#fdca26"
            ],
            [
             1,
             "#f0f921"
            ]
           ],
           "sequentialminus": [
            [
             0,
             "#0d0887"
            ],
            [
             0.1111111111111111,
             "#46039f"
            ],
            [
             0.2222222222222222,
             "#7201a8"
            ],
            [
             0.3333333333333333,
             "#9c179e"
            ],
            [
             0.4444444444444444,
             "#bd3786"
            ],
            [
             0.5555555555555556,
             "#d8576b"
            ],
            [
             0.6666666666666666,
             "#ed7953"
            ],
            [
             0.7777777777777778,
             "#fb9f3a"
            ],
            [
             0.8888888888888888,
             "#fdca26"
            ],
            [
             1,
             "#f0f921"
            ]
           ]
          },
          "colorway": [
           "#636efa",
           "#EF553B",
           "#00cc96",
           "#ab63fa",
           "#FFA15A",
           "#19d3f3",
           "#FF6692",
           "#B6E880",
           "#FF97FF",
           "#FECB52"
          ],
          "font": {
           "color": "#2a3f5f"
          },
          "geo": {
           "bgcolor": "white",
           "lakecolor": "white",
           "landcolor": "#E5ECF6",
           "showlakes": true,
           "showland": true,
           "subunitcolor": "white"
          },
          "hoverlabel": {
           "align": "left"
          },
          "hovermode": "closest",
          "mapbox": {
           "style": "light"
          },
          "paper_bgcolor": "white",
          "plot_bgcolor": "#E5ECF6",
          "polar": {
           "angularaxis": {
            "gridcolor": "white",
            "linecolor": "white",
            "ticks": ""
           },
           "bgcolor": "#E5ECF6",
           "radialaxis": {
            "gridcolor": "white",
            "linecolor": "white",
            "ticks": ""
           }
          },
          "scene": {
           "xaxis": {
            "backgroundcolor": "#E5ECF6",
            "gridcolor": "white",
            "gridwidth": 2,
            "linecolor": "white",
            "showbackground": true,
            "ticks": "",
            "zerolinecolor": "white"
           },
           "yaxis": {
            "backgroundcolor": "#E5ECF6",
            "gridcolor": "white",
            "gridwidth": 2,
            "linecolor": "white",
            "showbackground": true,
            "ticks": "",
            "zerolinecolor": "white"
           },
           "zaxis": {
            "backgroundcolor": "#E5ECF6",
            "gridcolor": "white",
            "gridwidth": 2,
            "linecolor": "white",
            "showbackground": true,
            "ticks": "",
            "zerolinecolor": "white"
           }
          },
          "shapedefaults": {
           "line": {
            "color": "#2a3f5f"
           }
          },
          "ternary": {
           "aaxis": {
            "gridcolor": "white",
            "linecolor": "white",
            "ticks": ""
           },
           "baxis": {
            "gridcolor": "white",
            "linecolor": "white",
            "ticks": ""
           },
           "bgcolor": "#E5ECF6",
           "caxis": {
            "gridcolor": "white",
            "linecolor": "white",
            "ticks": ""
           }
          },
          "title": {
           "x": 0.05
          },
          "xaxis": {
           "automargin": true,
           "gridcolor": "white",
           "linecolor": "white",
           "ticks": "",
           "title": {
            "standoff": 15
           },
           "zerolinecolor": "white",
           "zerolinewidth": 2
          },
          "yaxis": {
           "automargin": true,
           "gridcolor": "white",
           "linecolor": "white",
           "ticks": "",
           "title": {
            "standoff": 15
           },
           "zerolinecolor": "white",
           "zerolinewidth": 2
          }
         }
        },
        "title": {
         "font": {
          "size": 22
         },
         "text": "Total Deaths by Gender 2017-2021"
        },
        "xaxis": {
         "ticktext": [
          "15M",
          "10M",
          "7M",
          "6M",
          "5M",
          "4M",
          "3M",
          "2M",
          "1M",
          "0",
          "1M",
          "2M",
          "3M",
          "4M",
          "5M",
          "6M",
          "7M",
          "10M",
          "15M"
         ],
         "tickvals": [
          -15000000,
          -10000000,
          -7000000,
          -6000000,
          -5000000,
          -4000000,
          -3000000,
          -2000000,
          -1000000,
          0,
          1000000,
          2000000,
          3000000,
          4000000,
          5000000,
          6000000,
          7000000,
          10000000,
          15000000
         ],
         "title": {
          "font": {
           "size": 14
          },
          "text": "Death in Millions"
         }
        }
       }
      }
     },
     "metadata": {},
     "output_type": "display_data"
    }
   ],
   "source": [
    "\n",
    "# Creating instance of the figure \n",
    "fig = gp.Figure() \n",
    "  \n",
    "# Adding Male data to the figure \n",
    "fig.add_trace(gp.Bar(y= y_death, x = x_M,  \n",
    "                     name = 'Male', \n",
    "                     marker={'color': 'cornflowerblue'},\n",
    "                     orientation = 'h')) \n",
    "  \n",
    "# Adding Female data to the figure \n",
    "fig.add_trace(gp.Bar(y = y_death, x = x_F,\n",
    "                     marker={'color': 'orchid'}, \n",
    "                     name = 'Female', orientation = 'h')) \n",
    "  \n",
    "# Updating the layout for our graph \n",
    "fig.update_layout(title = 'Total Deaths by Gender 2017-2021', \n",
    "                 title_font_size = 22, barmode = 'relative', \n",
    "                 bargap = 0.0, bargroupgap = 0, \n",
    "                 xaxis = dict(tickvals = [-15000000,-10000000, -7000000, -6000000, -5000000, -4000000, -3000000, -2000000, -1000000, \n",
    "                                          0, 1000000, 2000000, 3000000, 4000000, 5000000, 6000000, 7000000, 10000000, 15000000], \n",
    "                                \n",
    "                              ticktext = [\"15M\",\"10M\",\"7M\",\"6M\",\"5M\",\"4M\",\"3M\",\"2M\",\"1M\",\"0\",  \n",
    "                                          \"1M\",\"2M\",\"3M\",\"4M\",\"5M\",\"6M\",\"7M\",\"10M\",\"15M\"], \n",
    "                                \n",
    "                              title = 'Death in Millions', \n",
    "                              title_font_size = 14) \n",
    "                 ) \n",
    "  \n",
    "fig.show()"
   ]
  },
  {
   "cell_type": "code",
   "execution_count": null,
   "metadata": {},
   "outputs": [],
   "source": []
  }
 ],
 "metadata": {
  "kernelspec": {
   "display_name": "dev",
   "language": "python",
   "name": "python3"
  },
  "language_info": {
   "codemirror_mode": {
    "name": "ipython",
    "version": 3
   },
   "file_extension": ".py",
   "mimetype": "text/x-python",
   "name": "python",
   "nbconvert_exporter": "python",
   "pygments_lexer": "ipython3",
   "version": "3.10.14"
  }
 },
 "nbformat": 4,
 "nbformat_minor": 2
}
